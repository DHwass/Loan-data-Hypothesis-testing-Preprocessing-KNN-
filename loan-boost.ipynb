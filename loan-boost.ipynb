{
 "cells": [
  {
   "cell_type": "markdown",
   "id": "d14a86a9",
   "metadata": {
    "papermill": {
     "duration": 0.020348,
     "end_time": "2023-06-24T13:23:41.263889",
     "exception": false,
     "start_time": "2023-06-24T13:23:41.243541",
     "status": "completed"
    },
    "tags": []
   },
   "source": [
    "### Table of Contents\n",
    "\n",
    "- 1 [Objective](#1)\n",
    "- 2 [Dataset overview](#2)\n",
    "- 3 [Hypothesis testing and vizualisations](#3)\n",
    "- 4 [Data Cleaning](#4)\n",
    "- 5 [KNN Classifier](#5)"
   ]
  },
  {
   "cell_type": "markdown",
   "id": "cf2e6c43",
   "metadata": {
    "papermill": {
     "duration": 0.018302,
     "end_time": "2023-06-24T13:23:41.300499",
     "exception": false,
     "start_time": "2023-06-24T13:23:41.282197",
     "status": "completed"
    },
    "tags": []
   },
   "source": [
    "# **1. Objective** <a class=\"anchor\" id=\"1\"></a>\n",
    "The main goal of this project is to tackle several important tasks. First, we want to answer questions about the data by conducting **hypothesis testing**. This will help us gain meaningful insights and draw conclusions from the information we have.\n",
    "\n",
    "Next, we aim to identify any flaws or issues in the data. By carefully examining the dataset, we'll be able to find and address any inconsistencies or errors, ensuring that our analysis is based on reliable and accurate data.\n",
    "\n",
    "Once the data is cleaned and validated, we'll dive into data analysis. This involves exploring the dataset, looking for patterns, trends, and relationships that can provide valuable insights. By understanding the data better, we can make informed decisions and uncover important findings.\n",
    "\n",
    "Finally, our objective is to build the best possible prediction model using **KNN Classifier**. "
   ]
  },
  {
   "cell_type": "markdown",
   "id": "c113a290",
   "metadata": {
    "papermill": {
     "duration": 0.017929,
     "end_time": "2023-06-24T13:23:41.337007",
     "exception": false,
     "start_time": "2023-06-24T13:23:41.319078",
     "status": "completed"
    },
    "tags": []
   },
   "source": [
    "# **2. Dataset overview** <a class=\"anchor\" id=\"2\"></a>"
   ]
  },
  {
   "cell_type": "code",
   "execution_count": 1,
   "id": "7febfc96",
   "metadata": {
    "execution": {
     "iopub.execute_input": "2023-06-24T13:23:41.377267Z",
     "iopub.status.busy": "2023-06-24T13:23:41.376827Z",
     "iopub.status.idle": "2023-06-24T13:23:45.562004Z",
     "shell.execute_reply": "2023-06-24T13:23:45.560345Z"
    },
    "papermill": {
     "duration": 4.209417,
     "end_time": "2023-06-24T13:23:45.566060",
     "exception": false,
     "start_time": "2023-06-24T13:23:41.356643",
     "status": "completed"
    },
    "tags": []
   },
   "outputs": [],
   "source": [
    "#Necessary imports\n",
    "import numpy as np\n",
    "import pandas as pd \n",
    "import seaborn as sns\n",
    "import matplotlib.pyplot as plt\n",
    "import statsmodels.api as sm\n",
    "import scipy\n",
    "from sklearn.impute import SimpleImputer\n",
    "from sklearn.metrics import accuracy_score\n",
    "from sklearn.model_selection import cross_val_score\n",
    "import xgboost as xgb\n",
    "from sklearn.ensemble import RandomForestClassifier\n",
    "from sklearn.model_selection import train_test_split\n",
    "\n",
    "from imblearn.over_sampling import RandomOverSampler\n",
    "from imblearn.under_sampling import RandomUnderSampler\n",
    "\n",
    "from sklearn.preprocessing import OrdinalEncoder,OneHotEncoder\n",
    "\n",
    "from sklearn.preprocessing import StandardScaler, MinMaxScaler\n"
   ]
  },
  {
   "cell_type": "code",
   "execution_count": 2,
   "id": "503a8147",
   "metadata": {
    "execution": {
     "iopub.execute_input": "2023-06-24T13:23:45.606533Z",
     "iopub.status.busy": "2023-06-24T13:23:45.605494Z",
     "iopub.status.idle": "2023-06-24T13:23:46.877267Z",
     "shell.execute_reply": "2023-06-24T13:23:46.875919Z"
    },
    "papermill": {
     "duration": 1.295385,
     "end_time": "2023-06-24T13:23:46.880183",
     "exception": false,
     "start_time": "2023-06-24T13:23:45.584798",
     "status": "completed"
    },
    "tags": []
   },
   "outputs": [
    {
     "name": "stdout",
     "output_type": "stream",
     "text": [
      "(148670, 33)\n"
     ]
    },
    {
     "data": {
      "text/html": [
       "<div>\n",
       "<style scoped>\n",
       "    .dataframe tbody tr th:only-of-type {\n",
       "        vertical-align: middle;\n",
       "    }\n",
       "\n",
       "    .dataframe tbody tr th {\n",
       "        vertical-align: top;\n",
       "    }\n",
       "\n",
       "    .dataframe thead th {\n",
       "        text-align: right;\n",
       "    }\n",
       "</style>\n",
       "<table border=\"1\" class=\"dataframe\">\n",
       "  <thead>\n",
       "    <tr style=\"text-align: right;\">\n",
       "      <th></th>\n",
       "      <th>year</th>\n",
       "      <th>loan_limit</th>\n",
       "      <th>Gender</th>\n",
       "      <th>approv_in_adv</th>\n",
       "      <th>loan_type</th>\n",
       "      <th>loan_purpose</th>\n",
       "      <th>Credit_Worthiness</th>\n",
       "      <th>open_credit</th>\n",
       "      <th>business_or_commercial</th>\n",
       "      <th>loan_amount</th>\n",
       "      <th>...</th>\n",
       "      <th>credit_type</th>\n",
       "      <th>Credit_Score</th>\n",
       "      <th>co-applicant_credit_type</th>\n",
       "      <th>age</th>\n",
       "      <th>submission_of_application</th>\n",
       "      <th>LTV</th>\n",
       "      <th>Region</th>\n",
       "      <th>Security_Type</th>\n",
       "      <th>Status</th>\n",
       "      <th>dtir1</th>\n",
       "    </tr>\n",
       "    <tr>\n",
       "      <th>ID</th>\n",
       "      <th></th>\n",
       "      <th></th>\n",
       "      <th></th>\n",
       "      <th></th>\n",
       "      <th></th>\n",
       "      <th></th>\n",
       "      <th></th>\n",
       "      <th></th>\n",
       "      <th></th>\n",
       "      <th></th>\n",
       "      <th></th>\n",
       "      <th></th>\n",
       "      <th></th>\n",
       "      <th></th>\n",
       "      <th></th>\n",
       "      <th></th>\n",
       "      <th></th>\n",
       "      <th></th>\n",
       "      <th></th>\n",
       "      <th></th>\n",
       "      <th></th>\n",
       "    </tr>\n",
       "  </thead>\n",
       "  <tbody>\n",
       "    <tr>\n",
       "      <th>24890</th>\n",
       "      <td>2019</td>\n",
       "      <td>cf</td>\n",
       "      <td>Sex Not Available</td>\n",
       "      <td>nopre</td>\n",
       "      <td>type1</td>\n",
       "      <td>p1</td>\n",
       "      <td>l1</td>\n",
       "      <td>nopc</td>\n",
       "      <td>nob/c</td>\n",
       "      <td>116500</td>\n",
       "      <td>...</td>\n",
       "      <td>EXP</td>\n",
       "      <td>758</td>\n",
       "      <td>CIB</td>\n",
       "      <td>25-34</td>\n",
       "      <td>to_inst</td>\n",
       "      <td>98.728814</td>\n",
       "      <td>south</td>\n",
       "      <td>direct</td>\n",
       "      <td>1</td>\n",
       "      <td>45.0</td>\n",
       "    </tr>\n",
       "    <tr>\n",
       "      <th>24891</th>\n",
       "      <td>2019</td>\n",
       "      <td>cf</td>\n",
       "      <td>Male</td>\n",
       "      <td>nopre</td>\n",
       "      <td>type2</td>\n",
       "      <td>p1</td>\n",
       "      <td>l1</td>\n",
       "      <td>nopc</td>\n",
       "      <td>b/c</td>\n",
       "      <td>206500</td>\n",
       "      <td>...</td>\n",
       "      <td>EQUI</td>\n",
       "      <td>552</td>\n",
       "      <td>EXP</td>\n",
       "      <td>55-64</td>\n",
       "      <td>to_inst</td>\n",
       "      <td>NaN</td>\n",
       "      <td>North</td>\n",
       "      <td>direct</td>\n",
       "      <td>1</td>\n",
       "      <td>NaN</td>\n",
       "    </tr>\n",
       "    <tr>\n",
       "      <th>24892</th>\n",
       "      <td>2019</td>\n",
       "      <td>cf</td>\n",
       "      <td>Male</td>\n",
       "      <td>pre</td>\n",
       "      <td>type1</td>\n",
       "      <td>p1</td>\n",
       "      <td>l1</td>\n",
       "      <td>nopc</td>\n",
       "      <td>nob/c</td>\n",
       "      <td>406500</td>\n",
       "      <td>...</td>\n",
       "      <td>EXP</td>\n",
       "      <td>834</td>\n",
       "      <td>CIB</td>\n",
       "      <td>35-44</td>\n",
       "      <td>to_inst</td>\n",
       "      <td>80.019685</td>\n",
       "      <td>south</td>\n",
       "      <td>direct</td>\n",
       "      <td>0</td>\n",
       "      <td>46.0</td>\n",
       "    </tr>\n",
       "    <tr>\n",
       "      <th>24893</th>\n",
       "      <td>2019</td>\n",
       "      <td>cf</td>\n",
       "      <td>Male</td>\n",
       "      <td>nopre</td>\n",
       "      <td>type1</td>\n",
       "      <td>p4</td>\n",
       "      <td>l1</td>\n",
       "      <td>nopc</td>\n",
       "      <td>nob/c</td>\n",
       "      <td>456500</td>\n",
       "      <td>...</td>\n",
       "      <td>EXP</td>\n",
       "      <td>587</td>\n",
       "      <td>CIB</td>\n",
       "      <td>45-54</td>\n",
       "      <td>not_inst</td>\n",
       "      <td>69.376900</td>\n",
       "      <td>North</td>\n",
       "      <td>direct</td>\n",
       "      <td>0</td>\n",
       "      <td>42.0</td>\n",
       "    </tr>\n",
       "    <tr>\n",
       "      <th>24894</th>\n",
       "      <td>2019</td>\n",
       "      <td>cf</td>\n",
       "      <td>Joint</td>\n",
       "      <td>pre</td>\n",
       "      <td>type1</td>\n",
       "      <td>p1</td>\n",
       "      <td>l1</td>\n",
       "      <td>nopc</td>\n",
       "      <td>nob/c</td>\n",
       "      <td>696500</td>\n",
       "      <td>...</td>\n",
       "      <td>CRIF</td>\n",
       "      <td>602</td>\n",
       "      <td>EXP</td>\n",
       "      <td>25-34</td>\n",
       "      <td>not_inst</td>\n",
       "      <td>91.886544</td>\n",
       "      <td>North</td>\n",
       "      <td>direct</td>\n",
       "      <td>0</td>\n",
       "      <td>39.0</td>\n",
       "    </tr>\n",
       "  </tbody>\n",
       "</table>\n",
       "<p>5 rows × 33 columns</p>\n",
       "</div>"
      ],
      "text/plain": [
       "       year loan_limit             Gender approv_in_adv loan_type  \\\n",
       "ID                                                                  \n",
       "24890  2019         cf  Sex Not Available         nopre     type1   \n",
       "24891  2019         cf               Male         nopre     type2   \n",
       "24892  2019         cf               Male           pre     type1   \n",
       "24893  2019         cf               Male         nopre     type1   \n",
       "24894  2019         cf              Joint           pre     type1   \n",
       "\n",
       "      loan_purpose Credit_Worthiness open_credit business_or_commercial  \\\n",
       "ID                                                                        \n",
       "24890           p1                l1        nopc                  nob/c   \n",
       "24891           p1                l1        nopc                    b/c   \n",
       "24892           p1                l1        nopc                  nob/c   \n",
       "24893           p4                l1        nopc                  nob/c   \n",
       "24894           p1                l1        nopc                  nob/c   \n",
       "\n",
       "       loan_amount  ...  credit_type  Credit_Score  co-applicant_credit_type  \\\n",
       "ID                  ...                                                        \n",
       "24890       116500  ...          EXP           758                       CIB   \n",
       "24891       206500  ...         EQUI           552                       EXP   \n",
       "24892       406500  ...          EXP           834                       CIB   \n",
       "24893       456500  ...          EXP           587                       CIB   \n",
       "24894       696500  ...         CRIF           602                       EXP   \n",
       "\n",
       "         age submission_of_application        LTV Region  Security_Type  \\\n",
       "ID                                                                        \n",
       "24890  25-34                   to_inst  98.728814  south         direct   \n",
       "24891  55-64                   to_inst        NaN  North         direct   \n",
       "24892  35-44                   to_inst  80.019685  south         direct   \n",
       "24893  45-54                  not_inst  69.376900  North         direct   \n",
       "24894  25-34                  not_inst  91.886544  North         direct   \n",
       "\n",
       "      Status dtir1  \n",
       "ID                  \n",
       "24890      1  45.0  \n",
       "24891      1   NaN  \n",
       "24892      0  46.0  \n",
       "24893      0  42.0  \n",
       "24894      0  39.0  \n",
       "\n",
       "[5 rows x 33 columns]"
      ]
     },
     "execution_count": 2,
     "metadata": {},
     "output_type": "execute_result"
    }
   ],
   "source": [
    "loan_data=pd.read_csv('/kaggle/input/loan-default-dataset/Loan_Default.csv',index_col='ID')\n",
    "print(loan_data.shape)\n",
    "loan_data.head()"
   ]
  },
  {
   "cell_type": "code",
   "execution_count": 3,
   "id": "d07346fb",
   "metadata": {
    "execution": {
     "iopub.execute_input": "2023-06-24T13:23:46.920522Z",
     "iopub.status.busy": "2023-06-24T13:23:46.919445Z",
     "iopub.status.idle": "2023-06-24T13:23:46.952037Z",
     "shell.execute_reply": "2023-06-24T13:23:46.950720Z"
    },
    "papermill": {
     "duration": 0.056066,
     "end_time": "2023-06-24T13:23:46.955128",
     "exception": false,
     "start_time": "2023-06-24T13:23:46.899062",
     "status": "completed"
    },
    "tags": []
   },
   "outputs": [
    {
     "name": "stdout",
     "output_type": "stream",
     "text": [
      "['year', 'loan_limit', 'Gender', 'approv_in_adv', 'loan_type', 'loan_purpose', 'Credit_Worthiness', 'open_credit', 'business_or_commercial', 'loan_amount', 'rate_of_interest', 'Interest_rate_spread', 'Upfront_charges', 'term', 'Neg_ammortization', 'interest_only', 'lump_sum_payment', 'property_value', 'construction_type', 'occupancy_type', 'Secured_by', 'total_units', 'income', 'credit_type', 'Credit_Score', 'co-applicant_credit_type', 'age', 'submission_of_application', 'LTV', 'Region', 'Security_Type', 'Status', 'dtir1']\n"
     ]
    }
   ],
   "source": [
    "#Full parameters list\n",
    "print(list(loan_data.columns))\n",
    "\n",
    "#Dropping the year column as it's not representative (all 2019)\n",
    "loan_data.drop(['year'],axis=1,inplace=True)"
   ]
  },
  {
   "cell_type": "markdown",
   "id": "3e52dcc9",
   "metadata": {
    "papermill": {
     "duration": 0.01857,
     "end_time": "2023-06-24T13:23:46.992297",
     "exception": false,
     "start_time": "2023-06-24T13:23:46.973727",
     "status": "completed"
    },
    "tags": []
   },
   "source": [
    "# **3. Hypothesis testing and visualizations** <a class=\"anchor\" id=\"3\"></a>\n",
    "Applying a series of test to reinforce the insights given by the visualizations"
   ]
  },
  {
   "cell_type": "markdown",
   "id": "8fb44da8",
   "metadata": {
    "papermill": {
     "duration": 0.018203,
     "end_time": "2023-06-24T13:23:47.029134",
     "exception": false,
     "start_time": "2023-06-24T13:23:47.010931",
     "status": "completed"
    },
    "tags": []
   },
   "source": [
    "## Is there a significant difference between the different age groups when it comes to loan status ?"
   ]
  },
  {
   "cell_type": "code",
   "execution_count": 4,
   "id": "602dee22",
   "metadata": {
    "execution": {
     "iopub.execute_input": "2023-06-24T13:23:47.070113Z",
     "iopub.status.busy": "2023-06-24T13:23:47.069264Z",
     "iopub.status.idle": "2023-06-24T13:23:47.116575Z",
     "shell.execute_reply": "2023-06-24T13:23:47.115035Z"
    },
    "papermill": {
     "duration": 0.07077,
     "end_time": "2023-06-24T13:23:47.119526",
     "exception": false,
     "start_time": "2023-06-24T13:23:47.048756",
     "status": "completed"
    },
    "tags": []
   },
   "outputs": [
    {
     "name": "stdout",
     "output_type": "stream",
     "text": [
      "['25-34' '55-64' '35-44' '45-54' '65-74' '>74' '<25' nan]\n",
      "\n",
      "\n",
      "The number of missing 'age' rows: 200\n"
     ]
    }
   ],
   "source": [
    "# How many Age groups do we have?\n",
    "print(loan_data['age'].unique())\n",
    "print(\"\\n\")\n",
    "#Noticing a nan value, how many null values do we have ?\n",
    "print(\"The number of missing 'age' rows: \"+str(loan_data['age'].isnull().sum()))"
   ]
  },
  {
   "cell_type": "code",
   "execution_count": 5,
   "id": "786744b5",
   "metadata": {
    "execution": {
     "iopub.execute_input": "2023-06-24T13:23:47.160352Z",
     "iopub.status.busy": "2023-06-24T13:23:47.159149Z",
     "iopub.status.idle": "2023-06-24T13:23:47.238425Z",
     "shell.execute_reply": "2023-06-24T13:23:47.236969Z"
    },
    "papermill": {
     "duration": 0.102457,
     "end_time": "2023-06-24T13:23:47.241354",
     "exception": false,
     "start_time": "2023-06-24T13:23:47.138897",
     "status": "completed"
    },
    "tags": []
   },
   "outputs": [
    {
     "name": "stdout",
     "output_type": "stream",
     "text": [
      "(148470, 32)\n"
     ]
    }
   ],
   "source": [
    "#Since it represents a small amount of rows compared to the total, I am dropping these rows\n",
    "loan_data_fullage=loan_data.dropna(subset=[\"age\"])\n",
    "print(loan_data_fullage.shape)"
   ]
  },
  {
   "cell_type": "code",
   "execution_count": 6,
   "id": "1c4a9852",
   "metadata": {
    "execution": {
     "iopub.execute_input": "2023-06-24T13:23:47.282554Z",
     "iopub.status.busy": "2023-06-24T13:23:47.281349Z",
     "iopub.status.idle": "2023-06-24T13:23:48.452562Z",
     "shell.execute_reply": "2023-06-24T13:23:48.451200Z"
    },
    "papermill": {
     "duration": 1.194814,
     "end_time": "2023-06-24T13:23:48.455483",
     "exception": false,
     "start_time": "2023-06-24T13:23:47.260669",
     "status": "completed"
    },
    "tags": []
   },
   "outputs": [
    {
     "data": {
      "image/png": "[encoded data removed]",
      "text/plain": [
       "<Figure size 600x600 with 2 Axes>"
      ]
     },
     "metadata": {},
     "output_type": "display_data"
    }
   ],
   "source": [
    "sns.catplot(x='age', row = 'Status',\n",
    "            kind='count', data=loan_data_fullage,\n",
    "            height = 3, aspect = 2)\n",
    "plt.show()"
   ]
  },
  {
   "cell_type": "markdown",
   "id": "041149c8",
   "metadata": {
    "papermill": {
     "duration": 0.019766,
     "end_time": "2023-06-24T13:23:48.495083",
     "exception": false,
     "start_time": "2023-06-24T13:23:48.475317",
     "status": "completed"
    },
    "tags": []
   },
   "source": [
    "**Observation:** The graph shows that loan status (fulfilled or unfulfilled) is not the same across all age groups. There are some age groups where loan fulfillment is more common, and others where loan non-fulfillment is more common. This means that age might be an important factor in whether a loan is fulfilled or not, and we should look into it more to find out why.\n",
    "In order to determine if there is a statistically significant difference in loan fulfillment between these groups, we should conduct a **Chi2 test** that accounts for the differences in sample size"
   ]
  },
  {
   "cell_type": "code",
   "execution_count": 7,
   "id": "6bf2b006",
   "metadata": {
    "execution": {
     "iopub.execute_input": "2023-06-24T13:23:48.537084Z",
     "iopub.status.busy": "2023-06-24T13:23:48.535870Z",
     "iopub.status.idle": "2023-06-24T13:23:48.540999Z",
     "shell.execute_reply": "2023-06-24T13:23:48.539984Z"
    },
    "papermill": {
     "duration": 0.028773,
     "end_time": "2023-06-24T13:23:48.543617",
     "exception": false,
     "start_time": "2023-06-24T13:23:48.514844",
     "status": "completed"
    },
    "tags": []
   },
   "outputs": [],
   "source": [
    "# Applying The Chi2 squared test "
   ]
  },
  {
   "cell_type": "markdown",
   "id": "a72e59d3",
   "metadata": {
    "papermill": {
     "duration": 0.019257,
     "end_time": "2023-06-24T13:23:48.583177",
     "exception": false,
     "start_time": "2023-06-24T13:23:48.563920",
     "status": "completed"
    },
    "tags": []
   },
   "source": [
    "The Chi2 squared test can be useful for testing the association between two categorical variables\n",
    "\n",
    "**H0**: There is no significant difference between the different age groups when it comes to loan status\n",
    "\n",
    "**H1**: There is a significant difference between the different age groups when it comes to loan status\n",
    "\n",
    "Chosen **Alpha Value** : 0.05"
   ]
  },
  {
   "cell_type": "code",
   "execution_count": 8,
   "id": "3ea3cdef",
   "metadata": {
    "execution": {
     "iopub.execute_input": "2023-06-24T13:23:48.625064Z",
     "iopub.status.busy": "2023-06-24T13:23:48.624582Z",
     "iopub.status.idle": "2023-06-24T13:23:48.678825Z",
     "shell.execute_reply": "2023-06-24T13:23:48.677378Z"
    },
    "papermill": {
     "duration": 0.078959,
     "end_time": "2023-06-24T13:23:48.681776",
     "exception": false,
     "start_time": "2023-06-24T13:23:48.602817",
     "status": "completed"
    },
    "tags": []
   },
   "outputs": [
    {
     "data": {
      "text/html": [
       "<div>\n",
       "<style scoped>\n",
       "    .dataframe tbody tr th:only-of-type {\n",
       "        vertical-align: middle;\n",
       "    }\n",
       "\n",
       "    .dataframe tbody tr th {\n",
       "        vertical-align: top;\n",
       "    }\n",
       "\n",
       "    .dataframe thead th {\n",
       "        text-align: right;\n",
       "    }\n",
       "</style>\n",
       "<table border=\"1\" class=\"dataframe\">\n",
       "  <thead>\n",
       "    <tr style=\"text-align: right;\">\n",
       "      <th>Status</th>\n",
       "      <th>0</th>\n",
       "      <th>1</th>\n",
       "    </tr>\n",
       "    <tr>\n",
       "      <th>age</th>\n",
       "      <th></th>\n",
       "      <th></th>\n",
       "    </tr>\n",
       "  </thead>\n",
       "  <tbody>\n",
       "    <tr>\n",
       "      <th>25-34</th>\n",
       "      <td>14894</td>\n",
       "      <td>4248</td>\n",
       "    </tr>\n",
       "    <tr>\n",
       "      <th>35-44</th>\n",
       "      <td>25509</td>\n",
       "      <td>7309</td>\n",
       "    </tr>\n",
       "    <tr>\n",
       "      <th>45-54</th>\n",
       "      <td>26371</td>\n",
       "      <td>8349</td>\n",
       "    </tr>\n",
       "    <tr>\n",
       "      <th>55-64</th>\n",
       "      <td>24112</td>\n",
       "      <td>8422</td>\n",
       "    </tr>\n",
       "    <tr>\n",
       "      <th>65-74</th>\n",
       "      <td>15173</td>\n",
       "      <td>5571</td>\n",
       "    </tr>\n",
       "    <tr>\n",
       "      <th>&lt;25</th>\n",
       "      <td>950</td>\n",
       "      <td>387</td>\n",
       "    </tr>\n",
       "    <tr>\n",
       "      <th>&gt;74</th>\n",
       "      <td>5022</td>\n",
       "      <td>2153</td>\n",
       "    </tr>\n",
       "  </tbody>\n",
       "</table>\n",
       "</div>"
      ],
      "text/plain": [
       "Status      0     1\n",
       "age                \n",
       "25-34   14894  4248\n",
       "35-44   25509  7309\n",
       "45-54   26371  8349\n",
       "55-64   24112  8422\n",
       "65-74   15173  5571\n",
       "<25       950   387\n",
       ">74      5022  2153"
      ]
     },
     "execution_count": 8,
     "metadata": {},
     "output_type": "execute_result"
    }
   ],
   "source": [
    "#contingency table\n",
    "cont_table  = pd.crosstab(loan_data_fullage['age'], loan_data_fullage['Status'])\n",
    "cont_table"
   ]
  },
  {
   "cell_type": "code",
   "execution_count": 9,
   "id": "36bf1c90",
   "metadata": {
    "execution": {
     "iopub.execute_input": "2023-06-24T13:23:48.722992Z",
     "iopub.status.busy": "2023-06-24T13:23:48.722581Z",
     "iopub.status.idle": "2023-06-24T13:23:48.740641Z",
     "shell.execute_reply": "2023-06-24T13:23:48.738763Z"
    },
    "papermill": {
     "duration": 0.042031,
     "end_time": "2023-06-24T13:23:48.743489",
     "exception": false,
     "start_time": "2023-06-24T13:23:48.701458",
     "status": "completed"
    },
    "tags": []
   },
   "outputs": [
    {
     "name": "stdout",
     "output_type": "stream",
     "text": [
      "The obtained P-Value is: 8.442234122939632e-78\n",
      "\n",
      "\n",
      "The expected frequencies are: \n"
     ]
    },
    {
     "data": {
      "text/html": [
       "<div>\n",
       "<style scoped>\n",
       "    .dataframe tbody tr th:only-of-type {\n",
       "        vertical-align: middle;\n",
       "    }\n",
       "\n",
       "    .dataframe tbody tr th {\n",
       "        vertical-align: top;\n",
       "    }\n",
       "\n",
       "    .dataframe thead th {\n",
       "        text-align: right;\n",
       "    }\n",
       "</style>\n",
       "<table border=\"1\" class=\"dataframe\">\n",
       "  <thead>\n",
       "    <tr style=\"text-align: right;\">\n",
       "      <th>Status</th>\n",
       "      <th>0</th>\n",
       "      <th>1</th>\n",
       "    </tr>\n",
       "    <tr>\n",
       "      <th>age</th>\n",
       "      <th></th>\n",
       "      <th></th>\n",
       "    </tr>\n",
       "  </thead>\n",
       "  <tbody>\n",
       "    <tr>\n",
       "      <th>25-34</th>\n",
       "      <td>14443.977921</td>\n",
       "      <td>4698.022079</td>\n",
       "    </tr>\n",
       "    <tr>\n",
       "      <th>35-44</th>\n",
       "      <td>24763.476514</td>\n",
       "      <td>8054.523486</td>\n",
       "    </tr>\n",
       "    <tr>\n",
       "      <th>45-54</th>\n",
       "      <td>26198.668553</td>\n",
       "      <td>8521.331447</td>\n",
       "    </tr>\n",
       "    <tr>\n",
       "      <th>55-64</th>\n",
       "      <td>24549.178649</td>\n",
       "      <td>7984.821351</td>\n",
       "    </tr>\n",
       "    <tr>\n",
       "      <th>65-74</th>\n",
       "      <td>15652.798976</td>\n",
       "      <td>5091.201024</td>\n",
       "    </tr>\n",
       "    <tr>\n",
       "      <th>&lt;25</th>\n",
       "      <td>1008.860019</td>\n",
       "      <td>328.139981</td>\n",
       "    </tr>\n",
       "    <tr>\n",
       "      <th>&gt;74</th>\n",
       "      <td>5414.039368</td>\n",
       "      <td>1760.960632</td>\n",
       "    </tr>\n",
       "  </tbody>\n",
       "</table>\n",
       "</div>"
      ],
      "text/plain": [
       "Status             0            1\n",
       "age                              \n",
       "25-34   14443.977921  4698.022079\n",
       "35-44   24763.476514  8054.523486\n",
       "45-54   26198.668553  8521.331447\n",
       "55-64   24549.178649  7984.821351\n",
       "65-74   15652.798976  5091.201024\n",
       "<25      1008.860019   328.139981\n",
       ">74      5414.039368  1760.960632"
      ]
     },
     "execution_count": 9,
     "metadata": {},
     "output_type": "execute_result"
    }
   ],
   "source": [
    "#Computing P value \n",
    "_,p,_,expected=scipy.stats.chi2_contingency(cont_table, correction = True)\n",
    "print(\"The obtained P-Value is: \"+str(p))\n",
    "print(\"\\n\")\n",
    "print(\"The expected frequencies are: \")\n",
    "expected_df=pd.DataFrame(expected)\n",
    "expected_df.columns=cont_table.columns\n",
    "expected_df.index=cont_table.index\n",
    "expected_df"
   ]
  },
  {
   "cell_type": "markdown",
   "id": "0f4e1d20",
   "metadata": {
    "papermill": {
     "duration": 0.019424,
     "end_time": "2023-06-24T13:23:48.782949",
     "exception": false,
     "start_time": "2023-06-24T13:23:48.763525",
     "status": "completed"
    },
    "tags": []
   },
   "source": [
    "**Conclusion:** Since the P-value is largely inferior to the signficance level (alpha Value) that we have chosen, then we reject the Null hypothesis as there is enough proof that there is an association between the AGE and the loan STATUS."
   ]
  },
  {
   "cell_type": "markdown",
   "id": "187d7f8e",
   "metadata": {
    "papermill": {
     "duration": 0.019439,
     "end_time": "2023-06-24T13:23:48.822215",
     "exception": false,
     "start_time": "2023-06-24T13:23:48.802776",
     "status": "completed"
    },
    "tags": []
   },
   "source": [
    "# Is there a significant difference in loan status based on gender ? "
   ]
  },
  {
   "cell_type": "code",
   "execution_count": 10,
   "id": "0107f47a",
   "metadata": {
    "execution": {
     "iopub.execute_input": "2023-06-24T13:23:48.864359Z",
     "iopub.status.busy": "2023-06-24T13:23:48.863417Z",
     "iopub.status.idle": "2023-06-24T13:23:48.899806Z",
     "shell.execute_reply": "2023-06-24T13:23:48.898537Z"
    },
    "papermill": {
     "duration": 0.060587,
     "end_time": "2023-06-24T13:23:48.902573",
     "exception": false,
     "start_time": "2023-06-24T13:23:48.841986",
     "status": "completed"
    },
    "tags": []
   },
   "outputs": [
    {
     "data": {
      "text/plain": [
       "Male                 42346\n",
       "Joint                41399\n",
       "Sex Not Available    37659\n",
       "Female               27266\n",
       "Name: Gender, dtype: int64"
      ]
     },
     "execution_count": 10,
     "metadata": {},
     "output_type": "execute_result"
    }
   ],
   "source": [
    "loan_data.Gender.value_counts()\n",
    "#To answer this question, I am only going to use the \"Male\" and \"Female\" genders , as joint being them combined and \"Sex Not Available\" non-informative"
   ]
  },
  {
   "cell_type": "code",
   "execution_count": 11,
   "id": "614b849a",
   "metadata": {
    "execution": {
     "iopub.execute_input": "2023-06-24T13:23:48.945249Z",
     "iopub.status.busy": "2023-06-24T13:23:48.944779Z",
     "iopub.status.idle": "2023-06-24T13:23:49.587202Z",
     "shell.execute_reply": "2023-06-24T13:23:49.585810Z"
    },
    "papermill": {
     "duration": 0.667491,
     "end_time": "2023-06-24T13:23:49.590310",
     "exception": false,
     "start_time": "2023-06-24T13:23:48.922819",
     "status": "completed"
    },
    "tags": []
   },
   "outputs": [
    {
     "data": {
      "image/png": "[encoded data removed]",
      "text/plain": [
       "<Figure size 400x400 with 2 Axes>"
      ]
     },
     "metadata": {},
     "output_type": "display_data"
    }
   ],
   "source": [
    "loan_per_gender=loan_data[(loan_data.Gender==\"Female\") | (loan_data.Gender==\"Male\")]\n",
    "sns.catplot(x='Status', row = 'Gender',\n",
    "            kind='count', data=loan_per_gender,\n",
    "            height = 2, aspect = 2)\n",
    "plt.show()"
   ]
  },
  {
   "cell_type": "markdown",
   "id": "759096c5",
   "metadata": {
    "papermill": {
     "duration": 0.02064,
     "end_time": "2023-06-24T13:23:49.632149",
     "exception": false,
     "start_time": "2023-06-24T13:23:49.611509",
     "status": "completed"
    },
    "tags": []
   },
   "source": [
    "We can't really tell from the graph if there is a statistical difference between the two genders in loan fulfillment as we don't have the same number of samples for each gender. We can investigate the association between gender and loan status using the same test."
   ]
  },
  {
   "cell_type": "code",
   "execution_count": 12,
   "id": "7471d6e4",
   "metadata": {
    "execution": {
     "iopub.execute_input": "2023-06-24T13:23:49.677973Z",
     "iopub.status.busy": "2023-06-24T13:23:49.677132Z",
     "iopub.status.idle": "2023-06-24T13:23:49.682693Z",
     "shell.execute_reply": "2023-06-24T13:23:49.681406Z"
    },
    "papermill": {
     "duration": 0.030281,
     "end_time": "2023-06-24T13:23:49.685364",
     "exception": false,
     "start_time": "2023-06-24T13:23:49.655083",
     "status": "completed"
    },
    "tags": []
   },
   "outputs": [],
   "source": [
    "# Applying The Chi2 squared test "
   ]
  },
  {
   "cell_type": "markdown",
   "id": "4df5b746",
   "metadata": {
    "papermill": {
     "duration": 0.02055,
     "end_time": "2023-06-24T13:23:49.727409",
     "exception": false,
     "start_time": "2023-06-24T13:23:49.706859",
     "status": "completed"
    },
    "tags": []
   },
   "source": [
    "**H0**: There is no significant difference in loan status based on gender \n",
    "\n",
    "**H1**: There is a significant difference in loan status based on gender \n",
    "\n",
    "Chosen Significance Level : 0.05"
   ]
  },
  {
   "cell_type": "code",
   "execution_count": 13,
   "id": "b3e4e026",
   "metadata": {
    "execution": {
     "iopub.execute_input": "2023-06-24T13:23:49.771945Z",
     "iopub.status.busy": "2023-06-24T13:23:49.771102Z",
     "iopub.status.idle": "2023-06-24T13:23:49.803470Z",
     "shell.execute_reply": "2023-06-24T13:23:49.802231Z"
    },
    "papermill": {
     "duration": 0.057908,
     "end_time": "2023-06-24T13:23:49.806067",
     "exception": false,
     "start_time": "2023-06-24T13:23:49.748159",
     "status": "completed"
    },
    "tags": []
   },
   "outputs": [
    {
     "data": {
      "text/html": [
       "<div>\n",
       "<style scoped>\n",
       "    .dataframe tbody tr th:only-of-type {\n",
       "        vertical-align: middle;\n",
       "    }\n",
       "\n",
       "    .dataframe tbody tr th {\n",
       "        vertical-align: top;\n",
       "    }\n",
       "\n",
       "    .dataframe thead th {\n",
       "        text-align: right;\n",
       "    }\n",
       "</style>\n",
       "<table border=\"1\" class=\"dataframe\">\n",
       "  <thead>\n",
       "    <tr style=\"text-align: right;\">\n",
       "      <th>Status</th>\n",
       "      <th>0</th>\n",
       "      <th>1</th>\n",
       "    </tr>\n",
       "    <tr>\n",
       "      <th>Gender</th>\n",
       "      <th></th>\n",
       "      <th></th>\n",
       "    </tr>\n",
       "  </thead>\n",
       "  <tbody>\n",
       "    <tr>\n",
       "      <th>Female</th>\n",
       "      <td>20418</td>\n",
       "      <td>6848</td>\n",
       "    </tr>\n",
       "    <tr>\n",
       "      <th>Male</th>\n",
       "      <td>31255</td>\n",
       "      <td>11091</td>\n",
       "    </tr>\n",
       "  </tbody>\n",
       "</table>\n",
       "</div>"
      ],
      "text/plain": [
       "Status      0      1\n",
       "Gender              \n",
       "Female  20418   6848\n",
       "Male    31255  11091"
      ]
     },
     "execution_count": 13,
     "metadata": {},
     "output_type": "execute_result"
    }
   ],
   "source": [
    "cont_table2=pd.crosstab(loan_per_gender.Gender,loan_per_gender.Status)\n",
    "cont_table2"
   ]
  },
  {
   "cell_type": "code",
   "execution_count": 14,
   "id": "125f0221",
   "metadata": {
    "execution": {
     "iopub.execute_input": "2023-06-24T13:23:49.851237Z",
     "iopub.status.busy": "2023-06-24T13:23:49.850341Z",
     "iopub.status.idle": "2023-06-24T13:23:49.864519Z",
     "shell.execute_reply": "2023-06-24T13:23:49.863537Z"
    },
    "papermill": {
     "duration": 0.039268,
     "end_time": "2023-06-24T13:23:49.867100",
     "exception": false,
     "start_time": "2023-06-24T13:23:49.827832",
     "status": "completed"
    },
    "tags": []
   },
   "outputs": [
    {
     "name": "stdout",
     "output_type": "stream",
     "text": [
      "The P_value obtained from this test is: 0.0015827031471534522\n"
     ]
    },
    {
     "data": {
      "text/html": [
       "<div>\n",
       "<style scoped>\n",
       "    .dataframe tbody tr th:only-of-type {\n",
       "        vertical-align: middle;\n",
       "    }\n",
       "\n",
       "    .dataframe tbody tr th {\n",
       "        vertical-align: top;\n",
       "    }\n",
       "\n",
       "    .dataframe thead th {\n",
       "        text-align: right;\n",
       "    }\n",
       "</style>\n",
       "<table border=\"1\" class=\"dataframe\">\n",
       "  <thead>\n",
       "    <tr style=\"text-align: right;\">\n",
       "      <th>Status</th>\n",
       "      <th>0</th>\n",
       "      <th>1</th>\n",
       "    </tr>\n",
       "    <tr>\n",
       "      <th>Gender</th>\n",
       "      <th></th>\n",
       "      <th></th>\n",
       "    </tr>\n",
       "  </thead>\n",
       "  <tbody>\n",
       "    <tr>\n",
       "      <th>Female</th>\n",
       "      <td>20239.556657</td>\n",
       "      <td>7026.443343</td>\n",
       "    </tr>\n",
       "    <tr>\n",
       "      <th>Male</th>\n",
       "      <td>31433.443343</td>\n",
       "      <td>10912.556657</td>\n",
       "    </tr>\n",
       "  </tbody>\n",
       "</table>\n",
       "</div>"
      ],
      "text/plain": [
       "Status             0             1\n",
       "Gender                            \n",
       "Female  20239.556657   7026.443343\n",
       "Male    31433.443343  10912.556657"
      ]
     },
     "execution_count": 14,
     "metadata": {},
     "output_type": "execute_result"
    }
   ],
   "source": [
    "_,p2,_,expected2=scipy.stats.chi2_contingency(cont_table2, correction = True)\n",
    "expected2=pd.DataFrame(expected2,index=cont_table2.index)\n",
    "expected2.columns=cont_table2.columns\n",
    "print(\"The P_value obtained from this test is: \"+str(p2))\n",
    "expected2"
   ]
  },
  {
   "cell_type": "markdown",
   "id": "0a6dd83d",
   "metadata": {
    "papermill": {
     "duration": 0.020891,
     "end_time": "2023-06-24T13:23:49.909895",
     "exception": false,
     "start_time": "2023-06-24T13:23:49.889004",
     "status": "completed"
    },
    "tags": []
   },
   "source": [
    "**Conclusion:** Since the P-value is less than the signficance level (alpha Value) that we have chosen, then we reject the Null hypothesis as there is enough proof that there is an association between the GENDER and the loan STATUS."
   ]
  },
  {
   "cell_type": "markdown",
   "id": "4cece5ff",
   "metadata": {
    "papermill": {
     "duration": 0.020928,
     "end_time": "2023-06-24T13:23:49.952008",
     "exception": false,
     "start_time": "2023-06-24T13:23:49.931080",
     "status": "completed"
    },
    "tags": []
   },
   "source": [
    "# What it is the probability of getting an LTV value (Loan-to-Value) ratio more than 100% for non-remboursé loans ? \n",
    "How frequently does a client asks for an amount of money greater than the property value ?"
   ]
  },
  {
   "cell_type": "code",
   "execution_count": 15,
   "id": "d4ec385c",
   "metadata": {
    "execution": {
     "iopub.execute_input": "2023-06-24T13:23:49.996986Z",
     "iopub.status.busy": "2023-06-24T13:23:49.996303Z",
     "iopub.status.idle": "2023-06-24T13:23:50.337723Z",
     "shell.execute_reply": "2023-06-24T13:23:50.336207Z"
    },
    "papermill": {
     "duration": 0.367431,
     "end_time": "2023-06-24T13:23:50.340852",
     "exception": false,
     "start_time": "2023-06-24T13:23:49.973421",
     "status": "completed"
    },
    "tags": []
   },
   "outputs": [
    {
     "data": {
      "image/png": "[encoded data removed]",
      "text/plain": [
       "<Figure size 640x480 with 1 Axes>"
      ]
     },
     "metadata": {},
     "output_type": "display_data"
    }
   ],
   "source": [
    "sns.boxplot(x=\"LTV\", data=loan_data)\n",
    "plt.show()\n",
    "#Well, there is a problem"
   ]
  },
  {
   "cell_type": "markdown",
   "id": "1f9a3248",
   "metadata": {
    "papermill": {
     "duration": 0.021438,
     "end_time": "2023-06-24T13:23:50.384375",
     "exception": false,
     "start_time": "2023-06-24T13:23:50.362937",
     "status": "completed"
    },
    "tags": []
   },
   "source": [
    "The main cause of the problem can be attributed to outliers. Since the Loan-to-Value (LTV) ratio represents a percentage, the values should ideally fall between 0 and 1. The LTV is calculated by dividing the loan amount by the property value. However, it is possible for the LTV to exceed 1 slightly if the loan amount surpasses the property value.\n"
   ]
  },
  {
   "cell_type": "code",
   "execution_count": 16,
   "id": "1db44bc3",
   "metadata": {
    "execution": {
     "iopub.execute_input": "2023-06-24T13:23:50.430758Z",
     "iopub.status.busy": "2023-06-24T13:23:50.430317Z",
     "iopub.status.idle": "2023-06-24T13:23:50.449361Z",
     "shell.execute_reply": "2023-06-24T13:23:50.448014Z"
    },
    "papermill": {
     "duration": 0.045272,
     "end_time": "2023-06-24T13:23:50.452129",
     "exception": false,
     "start_time": "2023-06-24T13:23:50.406857",
     "status": "completed"
    },
    "tags": []
   },
   "outputs": [
    {
     "name": "stdout",
     "output_type": "stream",
     "text": [
      "7831.25\n"
     ]
    },
    {
     "data": {
      "text/html": [
       "<div>\n",
       "<style scoped>\n",
       "    .dataframe tbody tr th:only-of-type {\n",
       "        vertical-align: middle;\n",
       "    }\n",
       "\n",
       "    .dataframe tbody tr th {\n",
       "        vertical-align: top;\n",
       "    }\n",
       "\n",
       "    .dataframe thead th {\n",
       "        text-align: right;\n",
       "    }\n",
       "</style>\n",
       "<table border=\"1\" class=\"dataframe\">\n",
       "  <thead>\n",
       "    <tr style=\"text-align: right;\">\n",
       "      <th></th>\n",
       "      <th>property_value</th>\n",
       "      <th>loan_amount</th>\n",
       "      <th>LTV</th>\n",
       "    </tr>\n",
       "    <tr>\n",
       "      <th>ID</th>\n",
       "      <th></th>\n",
       "      <th></th>\n",
       "      <th></th>\n",
       "    </tr>\n",
       "  </thead>\n",
       "  <tbody>\n",
       "    <tr>\n",
       "      <th>41841</th>\n",
       "      <td>8000.0</td>\n",
       "      <td>626500</td>\n",
       "      <td>7831.25</td>\n",
       "    </tr>\n",
       "    <tr>\n",
       "      <th>71177</th>\n",
       "      <td>8000.0</td>\n",
       "      <td>236500</td>\n",
       "      <td>2956.25</td>\n",
       "    </tr>\n",
       "    <tr>\n",
       "      <th>72697</th>\n",
       "      <td>8000.0</td>\n",
       "      <td>416500</td>\n",
       "      <td>5206.25</td>\n",
       "    </tr>\n",
       "    <tr>\n",
       "      <th>80176</th>\n",
       "      <td>8000.0</td>\n",
       "      <td>536500</td>\n",
       "      <td>6706.25</td>\n",
       "    </tr>\n",
       "    <tr>\n",
       "      <th>90128</th>\n",
       "      <td>8000.0</td>\n",
       "      <td>376500</td>\n",
       "      <td>4706.25</td>\n",
       "    </tr>\n",
       "    <tr>\n",
       "      <th>148233</th>\n",
       "      <td>8000.0</td>\n",
       "      <td>186500</td>\n",
       "      <td>2331.25</td>\n",
       "    </tr>\n",
       "  </tbody>\n",
       "</table>\n",
       "</div>"
      ],
      "text/plain": [
       "        property_value  loan_amount      LTV\n",
       "ID                                          \n",
       "41841           8000.0       626500  7831.25\n",
       "71177           8000.0       236500  2956.25\n",
       "72697           8000.0       416500  5206.25\n",
       "80176           8000.0       536500  6706.25\n",
       "90128           8000.0       376500  4706.25\n",
       "148233          8000.0       186500  2331.25"
      ]
     },
     "execution_count": 16,
     "metadata": {},
     "output_type": "execute_result"
    }
   ],
   "source": [
    "# one of the outliers\n",
    "print(loan_data.LTV.max())\n",
    "\n",
    "loan_data[['property_value','loan_amount','LTV']][loan_data.LTV>1000]\n",
    "#1000 as a test value"
   ]
  },
  {
   "cell_type": "markdown",
   "id": "f98862c6",
   "metadata": {
    "papermill": {
     "duration": 0.021479,
     "end_time": "2023-06-24T13:23:50.495666",
     "exception": false,
     "start_time": "2023-06-24T13:23:50.474187",
     "status": "completed"
    },
    "tags": []
   },
   "source": [
    "Bingo! The value 8000 is systematically repeated when the LTV value is odd, suggesting that the missing values in the \"property_value\" column have been inputted intentionally. In other words, 8000 represents an initially missing value."
   ]
  },
  {
   "cell_type": "code",
   "execution_count": 17,
   "id": "cc130dce",
   "metadata": {
    "execution": {
     "iopub.execute_input": "2023-06-24T13:23:50.542808Z",
     "iopub.status.busy": "2023-06-24T13:23:50.541818Z",
     "iopub.status.idle": "2023-06-24T13:23:50.559909Z",
     "shell.execute_reply": "2023-06-24T13:23:50.558580Z"
    },
    "papermill": {
     "duration": 0.045393,
     "end_time": "2023-06-24T13:23:50.562961",
     "exception": false,
     "start_time": "2023-06-24T13:23:50.517568",
     "status": "completed"
    },
    "tags": []
   },
   "outputs": [
    {
     "data": {
      "text/html": [
       "<div>\n",
       "<style scoped>\n",
       "    .dataframe tbody tr th:only-of-type {\n",
       "        vertical-align: middle;\n",
       "    }\n",
       "\n",
       "    .dataframe tbody tr th {\n",
       "        vertical-align: top;\n",
       "    }\n",
       "\n",
       "    .dataframe thead th {\n",
       "        text-align: right;\n",
       "    }\n",
       "</style>\n",
       "<table border=\"1\" class=\"dataframe\">\n",
       "  <thead>\n",
       "    <tr style=\"text-align: right;\">\n",
       "      <th></th>\n",
       "      <th>property_value</th>\n",
       "      <th>loan_amount</th>\n",
       "      <th>LTV</th>\n",
       "    </tr>\n",
       "    <tr>\n",
       "      <th>ID</th>\n",
       "      <th></th>\n",
       "      <th></th>\n",
       "      <th></th>\n",
       "    </tr>\n",
       "  </thead>\n",
       "  <tbody>\n",
       "    <tr>\n",
       "      <th>41841</th>\n",
       "      <td>8000.0</td>\n",
       "      <td>626500</td>\n",
       "      <td>7831.25</td>\n",
       "    </tr>\n",
       "    <tr>\n",
       "      <th>71177</th>\n",
       "      <td>8000.0</td>\n",
       "      <td>236500</td>\n",
       "      <td>2956.25</td>\n",
       "    </tr>\n",
       "    <tr>\n",
       "      <th>72697</th>\n",
       "      <td>8000.0</td>\n",
       "      <td>416500</td>\n",
       "      <td>5206.25</td>\n",
       "    </tr>\n",
       "    <tr>\n",
       "      <th>80176</th>\n",
       "      <td>8000.0</td>\n",
       "      <td>536500</td>\n",
       "      <td>6706.25</td>\n",
       "    </tr>\n",
       "    <tr>\n",
       "      <th>90128</th>\n",
       "      <td>8000.0</td>\n",
       "      <td>376500</td>\n",
       "      <td>4706.25</td>\n",
       "    </tr>\n",
       "    <tr>\n",
       "      <th>148233</th>\n",
       "      <td>8000.0</td>\n",
       "      <td>186500</td>\n",
       "      <td>2331.25</td>\n",
       "    </tr>\n",
       "  </tbody>\n",
       "</table>\n",
       "</div>"
      ],
      "text/plain": [
       "        property_value  loan_amount      LTV\n",
       "ID                                          \n",
       "41841           8000.0       626500  7831.25\n",
       "71177           8000.0       236500  2956.25\n",
       "72697           8000.0       416500  5206.25\n",
       "80176           8000.0       536500  6706.25\n",
       "90128           8000.0       376500  4706.25\n",
       "148233          8000.0       186500  2331.25"
      ]
     },
     "execution_count": 17,
     "metadata": {},
     "output_type": "execute_result"
    }
   ],
   "source": [
    "odd_df=loan_data[['property_value','loan_amount','LTV']][loan_data.property_value==8000.0]\n",
    "odd_df"
   ]
  },
  {
   "cell_type": "markdown",
   "id": "909aafad",
   "metadata": {
    "papermill": {
     "duration": 0.022528,
     "end_time": "2023-06-24T13:23:50.608372",
     "exception": false,
     "start_time": "2023-06-24T13:23:50.585844",
     "status": "completed"
    },
    "tags": []
   },
   "source": [
    "To address this issue, we have a couple of options. One approach is to replace these missing property values with an **imputation method** of our choice and then recalculate the LTV using the imputed values. Alternatively, we can choose to drop these rows entirely, considering that they constitute a small percentage of our overall data.\n",
    "\n",
    "Given that the affected rows represent a minimal portion of the dataset, it may be more prudent to simply **drop** them from further analysis (this can be considered as part of the [data cleaning](#4) part)."
   ]
  },
  {
   "cell_type": "code",
   "execution_count": 18,
   "id": "8120ce32",
   "metadata": {
    "execution": {
     "iopub.execute_input": "2023-06-24T13:23:50.658373Z",
     "iopub.status.busy": "2023-06-24T13:23:50.657672Z",
     "iopub.status.idle": "2023-06-24T13:23:50.665906Z",
     "shell.execute_reply": "2023-06-24T13:23:50.664656Z"
    },
    "papermill": {
     "duration": 0.037338,
     "end_time": "2023-06-24T13:23:50.668638",
     "exception": false,
     "start_time": "2023-06-24T13:23:50.631300",
     "status": "completed"
    },
    "tags": []
   },
   "outputs": [
    {
     "data": {
      "text/plain": [
       "Int64Index([41841, 71177, 72697, 80176, 90128, 148233], dtype='int64', name='ID')"
      ]
     },
     "execution_count": 18,
     "metadata": {},
     "output_type": "execute_result"
    }
   ],
   "source": [
    "odd_indexes=odd_df.index\n",
    "odd_indexes"
   ]
  },
  {
   "cell_type": "code",
   "execution_count": 19,
   "id": "6a2cfcd7",
   "metadata": {
    "execution": {
     "iopub.execute_input": "2023-06-24T13:23:50.714804Z",
     "iopub.status.busy": "2023-06-24T13:23:50.714387Z",
     "iopub.status.idle": "2023-06-24T13:23:50.779142Z",
     "shell.execute_reply": "2023-06-24T13:23:50.777648Z"
    },
    "papermill": {
     "duration": 0.091265,
     "end_time": "2023-06-24T13:23:50.781995",
     "exception": false,
     "start_time": "2023-06-24T13:23:50.690730",
     "status": "completed"
    },
    "tags": []
   },
   "outputs": [
    {
     "name": "stdout",
     "output_type": "stream",
     "text": [
      "(148670, 32)\n",
      "(148664, 32)\n"
     ]
    }
   ],
   "source": [
    "#Deleting the rows\n",
    "odd_indexes=odd_df.index\n",
    "print(loan_data.shape)\n",
    "odd_indexes=list(odd_df.index)\n",
    "loan_data.drop(index=odd_indexes,inplace=True)\n",
    "print(loan_data.shape)\n",
    "\n"
   ]
  },
  {
   "cell_type": "code",
   "execution_count": 20,
   "id": "75b0e967",
   "metadata": {
    "execution": {
     "iopub.execute_input": "2023-06-24T13:23:50.828562Z",
     "iopub.status.busy": "2023-06-24T13:23:50.828108Z",
     "iopub.status.idle": "2023-06-24T13:23:51.036006Z",
     "shell.execute_reply": "2023-06-24T13:23:51.034643Z"
    },
    "papermill": {
     "duration": 0.234709,
     "end_time": "2023-06-24T13:23:51.039110",
     "exception": false,
     "start_time": "2023-06-24T13:23:50.804401",
     "status": "completed"
    },
    "tags": []
   },
   "outputs": [
    {
     "data": {
      "image/png": "[encoded data removed]",
      "text/plain": [
       "<Figure size 640x480 with 1 Axes>"
      ]
     },
     "metadata": {},
     "output_type": "display_data"
    }
   ],
   "source": [
    "sns.boxplot(x=\"LTV\", data=loan_data)\n",
    "plt.title(\"LTV boxplot for paid loans samples\")\n",
    "plt.show()"
   ]
  },
  {
   "cell_type": "code",
   "execution_count": 21,
   "id": "2e079113",
   "metadata": {
    "execution": {
     "iopub.execute_input": "2023-06-24T13:23:51.088988Z",
     "iopub.status.busy": "2023-06-24T13:23:51.088554Z",
     "iopub.status.idle": "2023-06-24T13:23:51.107107Z",
     "shell.execute_reply": "2023-06-24T13:23:51.105615Z"
    },
    "papermill": {
     "duration": 0.047274,
     "end_time": "2023-06-24T13:23:51.110192",
     "exception": false,
     "start_time": "2023-06-24T13:23:51.062918",
     "status": "completed"
    },
    "tags": []
   },
   "outputs": [
    {
     "name": "stdout",
     "output_type": "stream",
     "text": [
      "0.06377589719967247\n"
     ]
    }
   ],
   "source": [
    "#Computing the probability\n",
    "loan_mean = round(loan_data['LTV'][loan_data.Status==0].mean(), 3)\n",
    "loan_sd = round(loan_data['LTV'][loan_data.Status==0].std(), 3)\n",
    "\n",
    "prob0 = scipy.stats.norm.cdf((100 - loan_mean)/loan_sd)\n",
    "prob=1-prob0\n",
    "print(prob)"
   ]
  },
  {
   "cell_type": "markdown",
   "id": "4079ab9b",
   "metadata": {
    "papermill": {
     "duration": 0.023067,
     "end_time": "2023-06-24T13:23:51.156420",
     "exception": false,
     "start_time": "2023-06-24T13:23:51.133353",
     "status": "completed"
    },
    "tags": []
   },
   "source": [
    "**Conclusion:** Given that the probability of getting an LTV ratio more than 100% is low (for non fulfilled cases), even if it represents a high-risk authorization, it would be advisable for the loan lender to keep offering this kind of service"
   ]
  },
  {
   "cell_type": "markdown",
   "id": "e5164128",
   "metadata": {
    "papermill": {
     "duration": 0.022435,
     "end_time": "2023-06-24T13:23:51.202266",
     "exception": false,
     "start_time": "2023-06-24T13:23:51.179831",
     "status": "completed"
    },
    "tags": []
   },
   "source": [
    "# **4. Data Cleaning** <a class=\"anchor\" id=\"4\"></a>"
   ]
  },
  {
   "cell_type": "code",
   "execution_count": 22,
   "id": "87ac6c45",
   "metadata": {
    "execution": {
     "iopub.execute_input": "2023-06-24T13:23:51.250394Z",
     "iopub.status.busy": "2023-06-24T13:23:51.249421Z",
     "iopub.status.idle": "2023-06-24T13:23:51.394854Z",
     "shell.execute_reply": "2023-06-24T13:23:51.393395Z"
    },
    "papermill": {
     "duration": 0.172966,
     "end_time": "2023-06-24T13:23:51.397974",
     "exception": false,
     "start_time": "2023-06-24T13:23:51.225008",
     "status": "completed"
    },
    "tags": []
   },
   "outputs": [
    {
     "data": {
      "text/html": [
       "<div>\n",
       "<style scoped>\n",
       "    .dataframe tbody tr th:only-of-type {\n",
       "        vertical-align: middle;\n",
       "    }\n",
       "\n",
       "    .dataframe tbody tr th {\n",
       "        vertical-align: top;\n",
       "    }\n",
       "\n",
       "    .dataframe thead th {\n",
       "        text-align: right;\n",
       "    }\n",
       "</style>\n",
       "<table border=\"1\" class=\"dataframe\">\n",
       "  <thead>\n",
       "    <tr style=\"text-align: right;\">\n",
       "      <th></th>\n",
       "      <th>count</th>\n",
       "      <th>mean</th>\n",
       "      <th>std</th>\n",
       "      <th>min</th>\n",
       "      <th>25%</th>\n",
       "      <th>50%</th>\n",
       "      <th>75%</th>\n",
       "      <th>max</th>\n",
       "    </tr>\n",
       "  </thead>\n",
       "  <tbody>\n",
       "    <tr>\n",
       "      <th>loan_amount</th>\n",
       "      <td>148664.0</td>\n",
       "      <td>331115.105204</td>\n",
       "      <td>183909.937139</td>\n",
       "      <td>16500.000000</td>\n",
       "      <td>196500.00000</td>\n",
       "      <td>296500.00000</td>\n",
       "      <td>436500.000000</td>\n",
       "      <td>3.576500e+06</td>\n",
       "    </tr>\n",
       "    <tr>\n",
       "      <th>rate_of_interest</th>\n",
       "      <td>112226.0</td>\n",
       "      <td>4.045488</td>\n",
       "      <td>0.561400</td>\n",
       "      <td>0.000000</td>\n",
       "      <td>3.62500</td>\n",
       "      <td>3.99000</td>\n",
       "      <td>4.375000</td>\n",
       "      <td>8.000000e+00</td>\n",
       "    </tr>\n",
       "    <tr>\n",
       "      <th>Interest_rate_spread</th>\n",
       "      <td>112026.0</td>\n",
       "      <td>0.441634</td>\n",
       "      <td>0.513040</td>\n",
       "      <td>-3.638000</td>\n",
       "      <td>0.07600</td>\n",
       "      <td>0.39030</td>\n",
       "      <td>0.775375</td>\n",
       "      <td>3.357000e+00</td>\n",
       "    </tr>\n",
       "    <tr>\n",
       "      <th>Upfront_charges</th>\n",
       "      <td>109023.0</td>\n",
       "      <td>3225.144031</td>\n",
       "      <td>3251.122700</td>\n",
       "      <td>0.000000</td>\n",
       "      <td>581.86000</td>\n",
       "      <td>2596.76000</td>\n",
       "      <td>4812.500000</td>\n",
       "      <td>6.000000e+04</td>\n",
       "    </tr>\n",
       "    <tr>\n",
       "      <th>term</th>\n",
       "      <td>148623.0</td>\n",
       "      <td>335.135578</td>\n",
       "      <td>58.410049</td>\n",
       "      <td>96.000000</td>\n",
       "      <td>360.00000</td>\n",
       "      <td>360.00000</td>\n",
       "      <td>360.000000</td>\n",
       "      <td>3.600000e+02</td>\n",
       "    </tr>\n",
       "    <tr>\n",
       "      <th>property_value</th>\n",
       "      <td>133566.0</td>\n",
       "      <td>497915.472500</td>\n",
       "      <td>359928.422921</td>\n",
       "      <td>18000.000000</td>\n",
       "      <td>268000.00000</td>\n",
       "      <td>418000.00000</td>\n",
       "      <td>628000.000000</td>\n",
       "      <td>1.650800e+07</td>\n",
       "    </tr>\n",
       "    <tr>\n",
       "      <th>income</th>\n",
       "      <td>139520.0</td>\n",
       "      <td>6957.338876</td>\n",
       "      <td>6496.586382</td>\n",
       "      <td>0.000000</td>\n",
       "      <td>3720.00000</td>\n",
       "      <td>5760.00000</td>\n",
       "      <td>8520.000000</td>\n",
       "      <td>5.785800e+05</td>\n",
       "    </tr>\n",
       "    <tr>\n",
       "      <th>Credit_Score</th>\n",
       "      <td>148664.0</td>\n",
       "      <td>699.790945</td>\n",
       "      <td>115.875971</td>\n",
       "      <td>500.000000</td>\n",
       "      <td>599.00000</td>\n",
       "      <td>699.00000</td>\n",
       "      <td>800.000000</td>\n",
       "      <td>9.000000e+02</td>\n",
       "    </tr>\n",
       "    <tr>\n",
       "      <th>LTV</th>\n",
       "      <td>133566.0</td>\n",
       "      <td>72.527082</td>\n",
       "      <td>18.942534</td>\n",
       "      <td>0.967478</td>\n",
       "      <td>60.47486</td>\n",
       "      <td>75.13587</td>\n",
       "      <td>86.184211</td>\n",
       "      <td>2.635417e+02</td>\n",
       "    </tr>\n",
       "    <tr>\n",
       "      <th>Status</th>\n",
       "      <td>148664.0</td>\n",
       "      <td>0.246448</td>\n",
       "      <td>0.430944</td>\n",
       "      <td>0.000000</td>\n",
       "      <td>0.00000</td>\n",
       "      <td>0.00000</td>\n",
       "      <td>0.000000</td>\n",
       "      <td>1.000000e+00</td>\n",
       "    </tr>\n",
       "    <tr>\n",
       "      <th>dtir1</th>\n",
       "      <td>124549.0</td>\n",
       "      <td>37.732932</td>\n",
       "      <td>10.545435</td>\n",
       "      <td>5.000000</td>\n",
       "      <td>31.00000</td>\n",
       "      <td>39.00000</td>\n",
       "      <td>45.000000</td>\n",
       "      <td>6.100000e+01</td>\n",
       "    </tr>\n",
       "  </tbody>\n",
       "</table>\n",
       "</div>"
      ],
      "text/plain": [
       "                         count           mean            std           min  \\\n",
       "loan_amount           148664.0  331115.105204  183909.937139  16500.000000   \n",
       "rate_of_interest      112226.0       4.045488       0.561400      0.000000   \n",
       "Interest_rate_spread  112026.0       0.441634       0.513040     -3.638000   \n",
       "Upfront_charges       109023.0    3225.144031    3251.122700      0.000000   \n",
       "term                  148623.0     335.135578      58.410049     96.000000   \n",
       "property_value        133566.0  497915.472500  359928.422921  18000.000000   \n",
       "income                139520.0    6957.338876    6496.586382      0.000000   \n",
       "Credit_Score          148664.0     699.790945     115.875971    500.000000   \n",
       "LTV                   133566.0      72.527082      18.942534      0.967478   \n",
       "Status                148664.0       0.246448       0.430944      0.000000   \n",
       "dtir1                 124549.0      37.732932      10.545435      5.000000   \n",
       "\n",
       "                               25%           50%            75%           max  \n",
       "loan_amount           196500.00000  296500.00000  436500.000000  3.576500e+06  \n",
       "rate_of_interest           3.62500       3.99000       4.375000  8.000000e+00  \n",
       "Interest_rate_spread       0.07600       0.39030       0.775375  3.357000e+00  \n",
       "Upfront_charges          581.86000    2596.76000    4812.500000  6.000000e+04  \n",
       "term                     360.00000     360.00000     360.000000  3.600000e+02  \n",
       "property_value        268000.00000  418000.00000  628000.000000  1.650800e+07  \n",
       "income                  3720.00000    5760.00000    8520.000000  5.785800e+05  \n",
       "Credit_Score             599.00000     699.00000     800.000000  9.000000e+02  \n",
       "LTV                       60.47486      75.13587      86.184211  2.635417e+02  \n",
       "Status                     0.00000       0.00000       0.000000  1.000000e+00  \n",
       "dtir1                     31.00000      39.00000      45.000000  6.100000e+01  "
      ]
     },
     "execution_count": 22,
     "metadata": {},
     "output_type": "execute_result"
    }
   ],
   "source": [
    "loan_data.describe().transpose()"
   ]
  },
  {
   "cell_type": "code",
   "execution_count": 23,
   "id": "5575ad0c",
   "metadata": {
    "execution": {
     "iopub.execute_input": "2023-06-24T13:23:51.447367Z",
     "iopub.status.busy": "2023-06-24T13:23:51.446013Z",
     "iopub.status.idle": "2023-06-24T13:23:51.479683Z",
     "shell.execute_reply": "2023-06-24T13:23:51.478313Z"
    },
    "papermill": {
     "duration": 0.061681,
     "end_time": "2023-06-24T13:23:51.482947",
     "exception": false,
     "start_time": "2023-06-24T13:23:51.421266",
     "status": "completed"
    },
    "tags": []
   },
   "outputs": [
    {
     "name": "stdout",
     "output_type": "stream",
     "text": [
      "['rate_of_interest', 'Interest_rate_spread', 'Upfront_charges', 'term', 'property_value', 'income', 'LTV', 'dtir1']\n"
     ]
    },
    {
     "data": {
      "text/html": [
       "<div>\n",
       "<style scoped>\n",
       "    .dataframe tbody tr th:only-of-type {\n",
       "        vertical-align: middle;\n",
       "    }\n",
       "\n",
       "    .dataframe tbody tr th {\n",
       "        vertical-align: top;\n",
       "    }\n",
       "\n",
       "    .dataframe thead th {\n",
       "        text-align: right;\n",
       "    }\n",
       "</style>\n",
       "<table border=\"1\" class=\"dataframe\">\n",
       "  <thead>\n",
       "    <tr style=\"text-align: right;\">\n",
       "      <th></th>\n",
       "      <th>rate_of_interest</th>\n",
       "      <th>Interest_rate_spread</th>\n",
       "      <th>Upfront_charges</th>\n",
       "      <th>term</th>\n",
       "      <th>property_value</th>\n",
       "      <th>income</th>\n",
       "      <th>LTV</th>\n",
       "      <th>dtir1</th>\n",
       "    </tr>\n",
       "    <tr>\n",
       "      <th>ID</th>\n",
       "      <th></th>\n",
       "      <th></th>\n",
       "      <th></th>\n",
       "      <th></th>\n",
       "      <th></th>\n",
       "      <th></th>\n",
       "      <th></th>\n",
       "      <th></th>\n",
       "    </tr>\n",
       "  </thead>\n",
       "  <tbody>\n",
       "    <tr>\n",
       "      <th>24890</th>\n",
       "      <td>NaN</td>\n",
       "      <td>NaN</td>\n",
       "      <td>NaN</td>\n",
       "      <td>360.0</td>\n",
       "      <td>118000.0</td>\n",
       "      <td>1740.0</td>\n",
       "      <td>98.728814</td>\n",
       "      <td>45.0</td>\n",
       "    </tr>\n",
       "    <tr>\n",
       "      <th>24891</th>\n",
       "      <td>NaN</td>\n",
       "      <td>NaN</td>\n",
       "      <td>NaN</td>\n",
       "      <td>360.0</td>\n",
       "      <td>NaN</td>\n",
       "      <td>4980.0</td>\n",
       "      <td>NaN</td>\n",
       "      <td>NaN</td>\n",
       "    </tr>\n",
       "    <tr>\n",
       "      <th>24892</th>\n",
       "      <td>4.560</td>\n",
       "      <td>0.2000</td>\n",
       "      <td>595.00</td>\n",
       "      <td>360.0</td>\n",
       "      <td>508000.0</td>\n",
       "      <td>9480.0</td>\n",
       "      <td>80.019685</td>\n",
       "      <td>46.0</td>\n",
       "    </tr>\n",
       "    <tr>\n",
       "      <th>24893</th>\n",
       "      <td>4.250</td>\n",
       "      <td>0.6810</td>\n",
       "      <td>NaN</td>\n",
       "      <td>360.0</td>\n",
       "      <td>658000.0</td>\n",
       "      <td>11880.0</td>\n",
       "      <td>69.376900</td>\n",
       "      <td>42.0</td>\n",
       "    </tr>\n",
       "    <tr>\n",
       "      <th>24894</th>\n",
       "      <td>4.000</td>\n",
       "      <td>0.3042</td>\n",
       "      <td>0.00</td>\n",
       "      <td>360.0</td>\n",
       "      <td>758000.0</td>\n",
       "      <td>10440.0</td>\n",
       "      <td>91.886544</td>\n",
       "      <td>39.0</td>\n",
       "    </tr>\n",
       "    <tr>\n",
       "      <th>...</th>\n",
       "      <td>...</td>\n",
       "      <td>...</td>\n",
       "      <td>...</td>\n",
       "      <td>...</td>\n",
       "      <td>...</td>\n",
       "      <td>...</td>\n",
       "      <td>...</td>\n",
       "      <td>...</td>\n",
       "    </tr>\n",
       "    <tr>\n",
       "      <th>173555</th>\n",
       "      <td>3.125</td>\n",
       "      <td>0.2571</td>\n",
       "      <td>9960.00</td>\n",
       "      <td>180.0</td>\n",
       "      <td>608000.0</td>\n",
       "      <td>7860.0</td>\n",
       "      <td>71.792763</td>\n",
       "      <td>48.0</td>\n",
       "    </tr>\n",
       "    <tr>\n",
       "      <th>173556</th>\n",
       "      <td>5.190</td>\n",
       "      <td>0.8544</td>\n",
       "      <td>0.00</td>\n",
       "      <td>360.0</td>\n",
       "      <td>788000.0</td>\n",
       "      <td>7140.0</td>\n",
       "      <td>74.428934</td>\n",
       "      <td>15.0</td>\n",
       "    </tr>\n",
       "    <tr>\n",
       "      <th>173557</th>\n",
       "      <td>3.125</td>\n",
       "      <td>0.0816</td>\n",
       "      <td>1226.64</td>\n",
       "      <td>180.0</td>\n",
       "      <td>728000.0</td>\n",
       "      <td>6900.0</td>\n",
       "      <td>61.332418</td>\n",
       "      <td>49.0</td>\n",
       "    </tr>\n",
       "    <tr>\n",
       "      <th>173558</th>\n",
       "      <td>3.500</td>\n",
       "      <td>0.5824</td>\n",
       "      <td>4323.33</td>\n",
       "      <td>180.0</td>\n",
       "      <td>278000.0</td>\n",
       "      <td>7140.0</td>\n",
       "      <td>70.683453</td>\n",
       "      <td>29.0</td>\n",
       "    </tr>\n",
       "    <tr>\n",
       "      <th>173559</th>\n",
       "      <td>4.375</td>\n",
       "      <td>1.3871</td>\n",
       "      <td>6000.00</td>\n",
       "      <td>240.0</td>\n",
       "      <td>558000.0</td>\n",
       "      <td>7260.0</td>\n",
       "      <td>72.849462</td>\n",
       "      <td>44.0</td>\n",
       "    </tr>\n",
       "  </tbody>\n",
       "</table>\n",
       "<p>148664 rows × 8 columns</p>\n",
       "</div>"
      ],
      "text/plain": [
       "        rate_of_interest  Interest_rate_spread  Upfront_charges   term  \\\n",
       "ID                                                                       \n",
       "24890                NaN                   NaN              NaN  360.0   \n",
       "24891                NaN                   NaN              NaN  360.0   \n",
       "24892              4.560                0.2000           595.00  360.0   \n",
       "24893              4.250                0.6810              NaN  360.0   \n",
       "24894              4.000                0.3042             0.00  360.0   \n",
       "...                  ...                   ...              ...    ...   \n",
       "173555             3.125                0.2571          9960.00  180.0   \n",
       "173556             5.190                0.8544             0.00  360.0   \n",
       "173557             3.125                0.0816          1226.64  180.0   \n",
       "173558             3.500                0.5824          4323.33  180.0   \n",
       "173559             4.375                1.3871          6000.00  240.0   \n",
       "\n",
       "        property_value   income        LTV  dtir1  \n",
       "ID                                                 \n",
       "24890         118000.0   1740.0  98.728814   45.0  \n",
       "24891              NaN   4980.0        NaN    NaN  \n",
       "24892         508000.0   9480.0  80.019685   46.0  \n",
       "24893         658000.0  11880.0  69.376900   42.0  \n",
       "24894         758000.0  10440.0  91.886544   39.0  \n",
       "...                ...      ...        ...    ...  \n",
       "173555        608000.0   7860.0  71.792763   48.0  \n",
       "173556        788000.0   7140.0  74.428934   15.0  \n",
       "173557        728000.0   6900.0  61.332418   49.0  \n",
       "173558        278000.0   7140.0  70.683453   29.0  \n",
       "173559        558000.0   7260.0  72.849462   44.0  \n",
       "\n",
       "[148664 rows x 8 columns]"
      ]
     },
     "execution_count": 23,
     "metadata": {},
     "output_type": "execute_result"
    }
   ],
   "source": [
    "# Visualization of continious variables distribution\n",
    "continious_cols=[col for col in loan_data.columns if loan_data[col].dtype == \"float64\"]\n",
    "print(continious_cols)\n",
    "loan_data[continious_cols]"
   ]
  },
  {
   "cell_type": "code",
   "execution_count": 24,
   "id": "c13297e8",
   "metadata": {
    "execution": {
     "iopub.execute_input": "2023-06-24T13:23:51.533476Z",
     "iopub.status.busy": "2023-06-24T13:23:51.533010Z",
     "iopub.status.idle": "2023-06-24T13:24:05.908934Z",
     "shell.execute_reply": "2023-06-24T13:24:05.907572Z"
    },
    "papermill": {
     "duration": 14.405111,
     "end_time": "2023-06-24T13:24:05.912201",
     "exception": false,
     "start_time": "2023-06-24T13:23:51.507090",
     "status": "completed"
    },
    "tags": []
   },
   "outputs": [
    {
     "data": {
      "image/png": "[encoded data removed]",
      "text/plain": [
       "<Figure size 1600x600 with 8 Axes>"
      ]
     },
     "metadata": {},
     "output_type": "display_data"
    }
   ],
   "source": [
    "indexes=[]\n",
    "for i in range(2):\n",
    "    for j in range(4):\n",
    "        indexes.append([i,j])\n",
    "# Create a figure with a single row and multiple columns\n",
    "fig, axes = plt.subplots(ncols=4,nrows=2,figsize=(16, 6))\n",
    "\n",
    "for l in range(len(continious_cols)):\n",
    "    sns.histplot(data=loan_data,x=str(continious_cols[l]),ax=axes[indexes[l][0],indexes[l][1]])\n",
    "\n",
    "plt.tight_layout()\n",
    "plt.show()\n"
   ]
  },
  {
   "cell_type": "markdown",
   "id": "f8b2c9ad",
   "metadata": {
    "papermill": {
     "duration": 0.024835,
     "end_time": "2023-06-24T13:24:05.962882",
     "exception": false,
     "start_time": "2023-06-24T13:24:05.938047",
     "status": "completed"
    },
    "tags": []
   },
   "source": [
    "**Observation:** We have observed the presence of numerous outliers in the dataset. **Scaling** these numerical values will help reduce the impact of these outliers on the KNN model's performance. We will also address missing values through imputation using the **\"median\"** strategy for continuous variables and the **\"most frequent\"** strategy for discrete variables. Since the term variable is a categorical variable, it will be excluded from the list of continuous variables."
   ]
  },
  {
   "cell_type": "code",
   "execution_count": 25,
   "id": "6b696708",
   "metadata": {
    "execution": {
     "iopub.execute_input": "2023-06-24T13:24:06.016507Z",
     "iopub.status.busy": "2023-06-24T13:24:06.015395Z",
     "iopub.status.idle": "2023-06-24T13:24:06.248283Z",
     "shell.execute_reply": "2023-06-24T13:24:06.246956Z"
    },
    "papermill": {
     "duration": 0.262883,
     "end_time": "2023-06-24T13:24:06.251632",
     "exception": false,
     "start_time": "2023-06-24T13:24:05.988749",
     "status": "completed"
    },
    "tags": []
   },
   "outputs": [],
   "source": [
    "y=loan_data['Status']\n",
    "X=loan_data.drop(['Status'],axis=1)\n",
    "X_train,X_test,y_train,y_test=train_test_split(X,y,random_state=42)"
   ]
  },
  {
   "cell_type": "code",
   "execution_count": 26,
   "id": "f7693003",
   "metadata": {
    "execution": {
     "iopub.execute_input": "2023-06-24T13:24:06.303956Z",
     "iopub.status.busy": "2023-06-24T13:24:06.303525Z",
     "iopub.status.idle": "2023-06-24T13:24:06.500515Z",
     "shell.execute_reply": "2023-06-24T13:24:06.499084Z"
    },
    "papermill": {
     "duration": 0.226265,
     "end_time": "2023-06-24T13:24:06.503204",
     "exception": false,
     "start_time": "2023-06-24T13:24:06.276939",
     "status": "completed"
    },
    "tags": []
   },
   "outputs": [
    {
     "name": "stdout",
     "output_type": "stream",
     "text": [
      "False\n",
      "False\n"
     ]
    }
   ],
   "source": [
    "#REPLACING MISSING NUMERICAL VALUES WITH THEIR MEDIAN\n",
    "num_cols=[col for col in X_train.columns if X_train[col].dtype in [\"float64\",\"int8\",\"int64\"]]\n",
    "num_cols.remove('term')\n",
    "my_imputer = SimpleImputer(strategy=\"median\")\n",
    "train_imputed_loan_data_num = pd.DataFrame(my_imputer.fit_transform(X_train[num_cols]))\n",
    "test_imputed_loan_data_num = pd.DataFrame(my_imputer.transform(X_test[num_cols]))\n",
    "\n",
    "\n",
    "\n",
    "#Checking presence of null values\n",
    "print(train_imputed_loan_data_num.isnull().any().any())\n",
    "print(test_imputed_loan_data_num.isnull().any().any())"
   ]
  },
  {
   "cell_type": "code",
   "execution_count": 27,
   "id": "3d928fbc",
   "metadata": {
    "execution": {
     "iopub.execute_input": "2023-06-24T13:24:06.556355Z",
     "iopub.status.busy": "2023-06-24T13:24:06.555627Z",
     "iopub.status.idle": "2023-06-24T13:24:06.576674Z",
     "shell.execute_reply": "2023-06-24T13:24:06.575091Z"
    },
    "papermill": {
     "duration": 0.051212,
     "end_time": "2023-06-24T13:24:06.579764",
     "exception": false,
     "start_time": "2023-06-24T13:24:06.528552",
     "status": "completed"
    },
    "tags": []
   },
   "outputs": [
    {
     "name": "stdout",
     "output_type": "stream",
     "text": [
      "term    False\n",
      "dtype: bool\n",
      "term    False\n",
      "dtype: bool\n"
     ]
    }
   ],
   "source": [
    "my_imputer2 = SimpleImputer(strategy=\"most_frequent\")\n",
    "train_imputed_term=pd.DataFrame(my_imputer2.fit_transform(np.array(X_train['term']).reshape(-1,1)))\n",
    "test_imputed_term=pd.DataFrame(my_imputer2.transform(np.array(X_test['term']).reshape(-1,1)))\n",
    "\n",
    "train_imputed_term.columns=['term']\n",
    "test_imputed_term.columns=['term']\n",
    "\n",
    "print(pd.DataFrame(train_imputed_term).isnull().any())\n",
    "print(pd.DataFrame(test_imputed_term).isnull().any())"
   ]
  },
  {
   "cell_type": "code",
   "execution_count": 28,
   "id": "3eff419a",
   "metadata": {
    "execution": {
     "iopub.execute_input": "2023-06-24T13:24:06.633137Z",
     "iopub.status.busy": "2023-06-24T13:24:06.632299Z",
     "iopub.status.idle": "2023-06-24T13:24:07.366473Z",
     "shell.execute_reply": "2023-06-24T13:24:07.364955Z"
    },
    "papermill": {
     "duration": 0.764112,
     "end_time": "2023-06-24T13:24:07.369631",
     "exception": false,
     "start_time": "2023-06-24T13:24:06.605519",
     "status": "completed"
    },
    "tags": []
   },
   "outputs": [],
   "source": [
    "#REPLACING MISSING CATEGORICAL VALUES WITH THE MOST FREQUENT VALUE\n",
    "cat_cols=[col for col in loan_data.columns if loan_data[col].dtype ==\"object\"]\n",
    "\n",
    "train_imputed_loan_data_cat = pd.DataFrame(my_imputer2.fit_transform(X_train[cat_cols]))\n",
    "test_imputed_loan_data_cat = pd.DataFrame(my_imputer2.transform(X_test[cat_cols]))\n",
    "\n",
    "train_imputed_loan_data_cat.columns=cat_cols\n",
    "test_imputed_loan_data_cat.columns=cat_cols\n",
    "\n",
    "train_imputed_loan_data_cat=train_imputed_loan_data_cat.join(train_imputed_term)\n",
    "test_imputed_loan_data_cat=test_imputed_loan_data_cat.join(test_imputed_term)\n"
   ]
  },
  {
   "cell_type": "code",
   "execution_count": 29,
   "id": "ebe17005",
   "metadata": {
    "execution": {
     "iopub.execute_input": "2023-06-24T13:24:07.422770Z",
     "iopub.status.busy": "2023-06-24T13:24:07.422354Z",
     "iopub.status.idle": "2023-06-24T13:24:07.471904Z",
     "shell.execute_reply": "2023-06-24T13:24:07.470542Z"
    },
    "papermill": {
     "duration": 0.07946,
     "end_time": "2023-06-24T13:24:07.474801",
     "exception": false,
     "start_time": "2023-06-24T13:24:07.395341",
     "status": "completed"
    },
    "tags": []
   },
   "outputs": [
    {
     "data": {
      "text/plain": [
       "(37659, 32)"
      ]
     },
     "execution_count": 29,
     "metadata": {},
     "output_type": "execute_result"
    }
   ],
   "source": [
    "loan_data[loan_data['Gender']=='Sex Not Available'].shape\n",
    "#Too many rows with 'Sex Not Available' as 'Gender' value,37659 rows, which representes a lot of data.\n",
    "#filling these \"empty\" cells with the most frequent value can lead the model to severe mistakes, so I leave it as it is"
   ]
  },
  {
   "cell_type": "markdown",
   "id": "c4a5749a",
   "metadata": {
    "papermill": {
     "duration": 0.025159,
     "end_time": "2023-06-24T13:24:07.526296",
     "exception": false,
     "start_time": "2023-06-24T13:24:07.501137",
     "status": "completed"
    },
    "tags": []
   },
   "source": [
    "When encoding categorical features, we have two options: **ordinal** encoding and one-hot encoding. The choice between them depends on the nature of the feature. If a feature does not possess any inherent order or hierarchy among its categories, we should choose one-hot encoding. On the other hand, if a feature exhibits a meaningful order or hierarchy among its categories, we should opt for ordinal encoding."
   ]
  },
  {
   "cell_type": "code",
   "execution_count": 30,
   "id": "274ad773",
   "metadata": {
    "execution": {
     "iopub.execute_input": "2023-06-24T13:24:07.581597Z",
     "iopub.status.busy": "2023-06-24T13:24:07.581155Z",
     "iopub.status.idle": "2023-06-24T13:24:08.394211Z",
     "shell.execute_reply": "2023-06-24T13:24:08.392959Z"
    },
    "papermill": {
     "duration": 0.845128,
     "end_time": "2023-06-24T13:24:08.397548",
     "exception": false,
     "start_time": "2023-06-24T13:24:07.552420",
     "status": "completed"
    },
    "tags": []
   },
   "outputs": [],
   "source": [
    "#Separating categorical features\n",
    "one_hot_encoding_features = [\n",
    "    'Gender',\n",
    "    'loan_type',\n",
    "    'loan_purpose',\n",
    "    'business_or_commercial',\n",
    "    'construction_type',\n",
    "    'occupancy_type',\n",
    "    'Secured_by',\n",
    "    'credit_type',\n",
    "    'co-applicant_credit_type',\n",
    "    'submission_of_application',\n",
    "    'Region',\n",
    "    'Security_Type'\n",
    "]\n",
    "\n",
    "ordinal_encoding_features = [\n",
    "    'loan_limit',\n",
    "    'Credit_Worthiness',\n",
    "    'open_credit',\n",
    "    'Neg_ammortization',\n",
    "    'interest_only',\n",
    "    'lump_sum_payment',\n",
    "    'total_units',\n",
    "    'age',\n",
    "    'term'\n",
    "]\n",
    "\n",
    "\n",
    "#One-hot Encoding\n",
    "OHtrain_imputed_loan_data_cat=pd.get_dummies(train_imputed_loan_data_cat[one_hot_encoding_features])\n",
    "OHtest_imputed_loan_data_cat=pd.get_dummies(test_imputed_loan_data_cat[one_hot_encoding_features])\n",
    "\n",
    "#Ordinal\n",
    "OREncoder=OrdinalEncoder()\n",
    "ORtrain_imputed_loan_data_cat=pd.DataFrame(OREncoder.fit_transform(train_imputed_loan_data_cat[ordinal_encoding_features]))\n",
    "ORtest_imputed_loan_data_cat=pd.DataFrame(OREncoder.transform(test_imputed_loan_data_cat[ordinal_encoding_features]))\n",
    "\n",
    "ORtrain_imputed_loan_data_cat.columns=ordinal_encoding_features\n",
    "ORtest_imputed_loan_data_cat.columns=ordinal_encoding_features\n",
    "\n",
    "train_cat=ORtrain_imputed_loan_data_cat.join(OHtrain_imputed_loan_data_cat)\n",
    "test_cat=ORtest_imputed_loan_data_cat.join(OHtest_imputed_loan_data_cat)"
   ]
  },
  {
   "cell_type": "code",
   "execution_count": 31,
   "id": "1b68231f",
   "metadata": {
    "execution": {
     "iopub.execute_input": "2023-06-24T13:24:08.450799Z",
     "iopub.status.busy": "2023-06-24T13:24:08.450377Z",
     "iopub.status.idle": "2023-06-24T13:24:08.471484Z",
     "shell.execute_reply": "2023-06-24T13:24:08.470248Z"
    },
    "papermill": {
     "duration": 0.051238,
     "end_time": "2023-06-24T13:24:08.474325",
     "exception": false,
     "start_time": "2023-06-24T13:24:08.423087",
     "status": "completed"
    },
    "tags": []
   },
   "outputs": [
    {
     "data": {
      "text/html": [
       "<div>\n",
       "<style scoped>\n",
       "    .dataframe tbody tr th:only-of-type {\n",
       "        vertical-align: middle;\n",
       "    }\n",
       "\n",
       "    .dataframe tbody tr th {\n",
       "        vertical-align: top;\n",
       "    }\n",
       "\n",
       "    .dataframe thead th {\n",
       "        text-align: right;\n",
       "    }\n",
       "</style>\n",
       "<table border=\"1\" class=\"dataframe\">\n",
       "  <thead>\n",
       "    <tr style=\"text-align: right;\">\n",
       "      <th></th>\n",
       "      <th>0</th>\n",
       "      <th>1</th>\n",
       "      <th>2</th>\n",
       "      <th>3</th>\n",
       "      <th>4</th>\n",
       "      <th>5</th>\n",
       "      <th>6</th>\n",
       "      <th>7</th>\n",
       "      <th>8</th>\n",
       "    </tr>\n",
       "  </thead>\n",
       "  <tbody>\n",
       "    <tr>\n",
       "      <th>0</th>\n",
       "      <td>196500.0</td>\n",
       "      <td>3.250</td>\n",
       "      <td>-0.3321</td>\n",
       "      <td>1770.18</td>\n",
       "      <td>268000.0</td>\n",
       "      <td>5760.0</td>\n",
       "      <td>799.0</td>\n",
       "      <td>73.320896</td>\n",
       "      <td>39.0</td>\n",
       "    </tr>\n",
       "    <tr>\n",
       "      <th>1</th>\n",
       "      <td>436500.0</td>\n",
       "      <td>4.125</td>\n",
       "      <td>0.3790</td>\n",
       "      <td>1789.06</td>\n",
       "      <td>558000.0</td>\n",
       "      <td>6420.0</td>\n",
       "      <td>814.0</td>\n",
       "      <td>78.225806</td>\n",
       "      <td>38.0</td>\n",
       "    </tr>\n",
       "    <tr>\n",
       "      <th>2</th>\n",
       "      <td>476500.0</td>\n",
       "      <td>3.990</td>\n",
       "      <td>0.3914</td>\n",
       "      <td>2600.00</td>\n",
       "      <td>418000.0</td>\n",
       "      <td>0.0</td>\n",
       "      <td>807.0</td>\n",
       "      <td>75.135870</td>\n",
       "      <td>39.0</td>\n",
       "    </tr>\n",
       "    <tr>\n",
       "      <th>3</th>\n",
       "      <td>266500.0</td>\n",
       "      <td>4.875</td>\n",
       "      <td>1.2034</td>\n",
       "      <td>2255.00</td>\n",
       "      <td>338000.0</td>\n",
       "      <td>4860.0</td>\n",
       "      <td>802.0</td>\n",
       "      <td>78.846154</td>\n",
       "      <td>45.0</td>\n",
       "    </tr>\n",
       "    <tr>\n",
       "      <th>4</th>\n",
       "      <td>516500.0</td>\n",
       "      <td>3.990</td>\n",
       "      <td>-0.3116</td>\n",
       "      <td>0.00</td>\n",
       "      <td>618000.0</td>\n",
       "      <td>7320.0</td>\n",
       "      <td>622.0</td>\n",
       "      <td>83.576052</td>\n",
       "      <td>49.0</td>\n",
       "    </tr>\n",
       "  </tbody>\n",
       "</table>\n",
       "</div>"
      ],
      "text/plain": [
       "          0      1       2        3         4       5      6          7     8\n",
       "0  196500.0  3.250 -0.3321  1770.18  268000.0  5760.0  799.0  73.320896  39.0\n",
       "1  436500.0  4.125  0.3790  1789.06  558000.0  6420.0  814.0  78.225806  38.0\n",
       "2  476500.0  3.990  0.3914  2600.00  418000.0     0.0  807.0  75.135870  39.0\n",
       "3  266500.0  4.875  1.2034  2255.00  338000.0  4860.0  802.0  78.846154  45.0\n",
       "4  516500.0  3.990 -0.3116     0.00  618000.0  7320.0  622.0  83.576052  49.0"
      ]
     },
     "execution_count": 31,
     "metadata": {},
     "output_type": "execute_result"
    }
   ],
   "source": [
    "train_imputed_loan_data_num.head()"
   ]
  },
  {
   "cell_type": "code",
   "execution_count": 32,
   "id": "00ff5a14",
   "metadata": {
    "execution": {
     "iopub.execute_input": "2023-06-24T13:24:08.528914Z",
     "iopub.status.busy": "2023-06-24T13:24:08.528494Z",
     "iopub.status.idle": "2023-06-24T13:24:08.552206Z",
     "shell.execute_reply": "2023-06-24T13:24:08.550891Z"
    },
    "papermill": {
     "duration": 0.054366,
     "end_time": "2023-06-24T13:24:08.555211",
     "exception": false,
     "start_time": "2023-06-24T13:24:08.500845",
     "status": "completed"
    },
    "tags": []
   },
   "outputs": [
    {
     "data": {
      "text/html": [
       "<div>\n",
       "<style scoped>\n",
       "    .dataframe tbody tr th:only-of-type {\n",
       "        vertical-align: middle;\n",
       "    }\n",
       "\n",
       "    .dataframe tbody tr th {\n",
       "        vertical-align: top;\n",
       "    }\n",
       "\n",
       "    .dataframe thead th {\n",
       "        text-align: right;\n",
       "    }\n",
       "</style>\n",
       "<table border=\"1\" class=\"dataframe\">\n",
       "  <thead>\n",
       "    <tr style=\"text-align: right;\">\n",
       "      <th></th>\n",
       "      <th>Gender_Female</th>\n",
       "      <th>Gender_Joint</th>\n",
       "      <th>Gender_Male</th>\n",
       "      <th>Gender_Sex Not Available</th>\n",
       "      <th>loan_type_type1</th>\n",
       "      <th>loan_type_type2</th>\n",
       "      <th>loan_type_type3</th>\n",
       "      <th>loan_purpose_p1</th>\n",
       "      <th>loan_purpose_p2</th>\n",
       "      <th>loan_purpose_p3</th>\n",
       "      <th>...</th>\n",
       "      <th>co-applicant_credit_type_CIB</th>\n",
       "      <th>co-applicant_credit_type_EXP</th>\n",
       "      <th>submission_of_application_not_inst</th>\n",
       "      <th>submission_of_application_to_inst</th>\n",
       "      <th>Region_North</th>\n",
       "      <th>Region_North-East</th>\n",
       "      <th>Region_central</th>\n",
       "      <th>Region_south</th>\n",
       "      <th>Security_Type_Indriect</th>\n",
       "      <th>Security_Type_direct</th>\n",
       "    </tr>\n",
       "  </thead>\n",
       "  <tbody>\n",
       "    <tr>\n",
       "      <th>0</th>\n",
       "      <td>0</td>\n",
       "      <td>1</td>\n",
       "      <td>0</td>\n",
       "      <td>0</td>\n",
       "      <td>0</td>\n",
       "      <td>0</td>\n",
       "      <td>1</td>\n",
       "      <td>0</td>\n",
       "      <td>0</td>\n",
       "      <td>0</td>\n",
       "      <td>...</td>\n",
       "      <td>0</td>\n",
       "      <td>1</td>\n",
       "      <td>0</td>\n",
       "      <td>1</td>\n",
       "      <td>1</td>\n",
       "      <td>0</td>\n",
       "      <td>0</td>\n",
       "      <td>0</td>\n",
       "      <td>0</td>\n",
       "      <td>1</td>\n",
       "    </tr>\n",
       "    <tr>\n",
       "      <th>1</th>\n",
       "      <td>0</td>\n",
       "      <td>0</td>\n",
       "      <td>0</td>\n",
       "      <td>1</td>\n",
       "      <td>1</td>\n",
       "      <td>0</td>\n",
       "      <td>0</td>\n",
       "      <td>0</td>\n",
       "      <td>0</td>\n",
       "      <td>1</td>\n",
       "      <td>...</td>\n",
       "      <td>1</td>\n",
       "      <td>0</td>\n",
       "      <td>0</td>\n",
       "      <td>1</td>\n",
       "      <td>0</td>\n",
       "      <td>0</td>\n",
       "      <td>0</td>\n",
       "      <td>1</td>\n",
       "      <td>0</td>\n",
       "      <td>1</td>\n",
       "    </tr>\n",
       "    <tr>\n",
       "      <th>2</th>\n",
       "      <td>0</td>\n",
       "      <td>1</td>\n",
       "      <td>0</td>\n",
       "      <td>0</td>\n",
       "      <td>0</td>\n",
       "      <td>1</td>\n",
       "      <td>0</td>\n",
       "      <td>0</td>\n",
       "      <td>0</td>\n",
       "      <td>0</td>\n",
       "      <td>...</td>\n",
       "      <td>0</td>\n",
       "      <td>1</td>\n",
       "      <td>1</td>\n",
       "      <td>0</td>\n",
       "      <td>1</td>\n",
       "      <td>0</td>\n",
       "      <td>0</td>\n",
       "      <td>0</td>\n",
       "      <td>0</td>\n",
       "      <td>1</td>\n",
       "    </tr>\n",
       "    <tr>\n",
       "      <th>3</th>\n",
       "      <td>1</td>\n",
       "      <td>0</td>\n",
       "      <td>0</td>\n",
       "      <td>0</td>\n",
       "      <td>1</td>\n",
       "      <td>0</td>\n",
       "      <td>0</td>\n",
       "      <td>0</td>\n",
       "      <td>0</td>\n",
       "      <td>1</td>\n",
       "      <td>...</td>\n",
       "      <td>0</td>\n",
       "      <td>1</td>\n",
       "      <td>0</td>\n",
       "      <td>1</td>\n",
       "      <td>1</td>\n",
       "      <td>0</td>\n",
       "      <td>0</td>\n",
       "      <td>0</td>\n",
       "      <td>0</td>\n",
       "      <td>1</td>\n",
       "    </tr>\n",
       "    <tr>\n",
       "      <th>4</th>\n",
       "      <td>0</td>\n",
       "      <td>1</td>\n",
       "      <td>0</td>\n",
       "      <td>0</td>\n",
       "      <td>0</td>\n",
       "      <td>0</td>\n",
       "      <td>1</td>\n",
       "      <td>1</td>\n",
       "      <td>0</td>\n",
       "      <td>0</td>\n",
       "      <td>...</td>\n",
       "      <td>0</td>\n",
       "      <td>1</td>\n",
       "      <td>1</td>\n",
       "      <td>0</td>\n",
       "      <td>1</td>\n",
       "      <td>0</td>\n",
       "      <td>0</td>\n",
       "      <td>0</td>\n",
       "      <td>0</td>\n",
       "      <td>1</td>\n",
       "    </tr>\n",
       "  </tbody>\n",
       "</table>\n",
       "<p>5 rows × 34 columns</p>\n",
       "</div>"
      ],
      "text/plain": [
       "   Gender_Female  Gender_Joint  Gender_Male  Gender_Sex Not Available  \\\n",
       "0              0             1            0                         0   \n",
       "1              0             0            0                         1   \n",
       "2              0             1            0                         0   \n",
       "3              1             0            0                         0   \n",
       "4              0             1            0                         0   \n",
       "\n",
       "   loan_type_type1  loan_type_type2  loan_type_type3  loan_purpose_p1  \\\n",
       "0                0                0                1                0   \n",
       "1                1                0                0                0   \n",
       "2                0                1                0                0   \n",
       "3                1                0                0                0   \n",
       "4                0                0                1                1   \n",
       "\n",
       "   loan_purpose_p2  loan_purpose_p3  ...  co-applicant_credit_type_CIB  \\\n",
       "0                0                0  ...                             0   \n",
       "1                0                1  ...                             1   \n",
       "2                0                0  ...                             0   \n",
       "3                0                1  ...                             0   \n",
       "4                0                0  ...                             0   \n",
       "\n",
       "   co-applicant_credit_type_EXP  submission_of_application_not_inst  \\\n",
       "0                             1                                   0   \n",
       "1                             0                                   0   \n",
       "2                             1                                   1   \n",
       "3                             1                                   0   \n",
       "4                             1                                   1   \n",
       "\n",
       "   submission_of_application_to_inst  Region_North  Region_North-East  \\\n",
       "0                                  1             1                  0   \n",
       "1                                  1             0                  0   \n",
       "2                                  0             1                  0   \n",
       "3                                  1             1                  0   \n",
       "4                                  0             1                  0   \n",
       "\n",
       "   Region_central  Region_south  Security_Type_Indriect  Security_Type_direct  \n",
       "0               0             0                       0                     1  \n",
       "1               0             1                       0                     1  \n",
       "2               0             0                       0                     1  \n",
       "3               0             0                       0                     1  \n",
       "4               0             0                       0                     1  \n",
       "\n",
       "[5 rows x 34 columns]"
      ]
     },
     "execution_count": 32,
     "metadata": {},
     "output_type": "execute_result"
    }
   ],
   "source": [
    "OHtrain_imputed_loan_data_cat.head()"
   ]
  },
  {
   "cell_type": "code",
   "execution_count": 33,
   "id": "84a7f862",
   "metadata": {
    "execution": {
     "iopub.execute_input": "2023-06-24T13:24:08.610748Z",
     "iopub.status.busy": "2023-06-24T13:24:08.610281Z",
     "iopub.status.idle": "2023-06-24T13:24:08.637057Z",
     "shell.execute_reply": "2023-06-24T13:24:08.635330Z"
    },
    "papermill": {
     "duration": 0.058613,
     "end_time": "2023-06-24T13:24:08.640390",
     "exception": false,
     "start_time": "2023-06-24T13:24:08.581777",
     "status": "completed"
    },
    "tags": []
   },
   "outputs": [],
   "source": [
    "scaler = StandardScaler()\n",
    "train_imputed_loan_data_num=pd.DataFrame(scaler.fit_transform(train_imputed_loan_data_num))\n",
    "test_imputed_loan_data_num=pd.DataFrame(scaler.transform(test_imputed_loan_data_num))\n",
    "\n",
    "\n",
    "train_imputed_loan_data_num.columns=num_cols\n",
    "test_imputed_loan_data_num.columns=num_cols\n"
   ]
  },
  {
   "cell_type": "code",
   "execution_count": 34,
   "id": "af09c301",
   "metadata": {
    "execution": {
     "iopub.execute_input": "2023-06-24T13:24:08.696434Z",
     "iopub.status.busy": "2023-06-24T13:24:08.695973Z",
     "iopub.status.idle": "2023-06-24T13:24:08.717876Z",
     "shell.execute_reply": "2023-06-24T13:24:08.716456Z"
    },
    "papermill": {
     "duration": 0.054734,
     "end_time": "2023-06-24T13:24:08.721421",
     "exception": false,
     "start_time": "2023-06-24T13:24:08.666687",
     "status": "completed"
    },
    "tags": []
   },
   "outputs": [],
   "source": [
    "# final train/test sets\n",
    "train_data=train_imputed_loan_data_num.join(train_cat)\n",
    "test_data=test_imputed_loan_data_num.join(test_cat)"
   ]
  },
  {
   "cell_type": "code",
   "execution_count": 35,
   "id": "1a0c235b",
   "metadata": {
    "execution": {
     "iopub.execute_input": "2023-06-24T13:24:08.776625Z",
     "iopub.status.busy": "2023-06-24T13:24:08.776165Z",
     "iopub.status.idle": "2023-06-24T13:24:08.786949Z",
     "shell.execute_reply": "2023-06-24T13:24:08.785609Z"
    },
    "papermill": {
     "duration": 0.041454,
     "end_time": "2023-06-24T13:24:08.789753",
     "exception": false,
     "start_time": "2023-06-24T13:24:08.748299",
     "status": "completed"
    },
    "tags": []
   },
   "outputs": [
    {
     "data": {
      "text/plain": [
       "0    83975\n",
       "1    27523\n",
       "Name: Status, dtype: int64"
      ]
     },
     "execution_count": 35,
     "metadata": {},
     "output_type": "execute_result"
    }
   ],
   "source": [
    "y_train.value_counts()"
   ]
  },
  {
   "cell_type": "code",
   "execution_count": 36,
   "id": "727d326a",
   "metadata": {
    "execution": {
     "iopub.execute_input": "2023-06-24T13:24:08.844293Z",
     "iopub.status.busy": "2023-06-24T13:24:08.843843Z",
     "iopub.status.idle": "2023-06-24T13:24:09.172973Z",
     "shell.execute_reply": "2023-06-24T13:24:09.172016Z"
    },
    "papermill": {
     "duration": 0.359652,
     "end_time": "2023-06-24T13:24:09.175769",
     "exception": false,
     "start_time": "2023-06-24T13:24:08.816117",
     "status": "completed"
    },
    "tags": []
   },
   "outputs": [
    {
     "data": {
      "text/plain": [
       "0    83975\n",
       "1    83975\n",
       "Name: Status, dtype: int64"
      ]
     },
     "execution_count": 36,
     "metadata": {},
     "output_type": "execute_result"
    }
   ],
   "source": [
    "ROS=RandomOverSampler(sampling_strategy=\"not majority\")\n",
    "X_train,Y_train=ROS.fit_resample(train_data,y_train)\n",
    "Y_train.value_counts()"
   ]
  },
  {
   "cell_type": "code",
   "execution_count": null,
   "id": "eb4a6e27",
   "metadata": {
    "execution": {
     "iopub.execute_input": "2023-06-24T12:08:15.473277Z",
     "iopub.status.busy": "2023-06-24T12:08:15.471212Z",
     "iopub.status.idle": "2023-06-24T12:08:15.484471Z",
     "shell.execute_reply": "2023-06-24T12:08:15.483227Z",
     "shell.execute_reply.started": "2023-06-24T12:08:15.473219Z"
    },
    "papermill": {
     "duration": 0.026342,
     "end_time": "2023-06-24T13:24:09.228281",
     "exception": false,
     "start_time": "2023-06-24T13:24:09.201939",
     "status": "completed"
    },
    "tags": []
   },
   "outputs": [],
   "source": []
  },
  {
   "cell_type": "markdown",
   "id": "fffc8a36",
   "metadata": {
    "papermill": {
     "duration": 0.026081,
     "end_time": "2023-06-24T13:24:09.280593",
     "exception": false,
     "start_time": "2023-06-24T13:24:09.254512",
     "status": "completed"
    },
    "tags": []
   },
   "source": [
    "# **5. KNN Classifier** <a class=\"anchor\" id=\"5\"></a>"
   ]
  },
  {
   "cell_type": "code",
   "execution_count": 37,
   "id": "53b87fe7",
   "metadata": {
    "execution": {
     "iopub.execute_input": "2023-06-24T13:24:09.335440Z",
     "iopub.status.busy": "2023-06-24T13:24:09.334975Z",
     "iopub.status.idle": "2023-06-24T13:26:06.647966Z",
     "shell.execute_reply": "2023-06-24T13:26:06.646670Z"
    },
    "papermill": {
     "duration": 117.369822,
     "end_time": "2023-06-24T13:26:06.676573",
     "exception": false,
     "start_time": "2023-06-24T13:24:09.306751",
     "status": "completed"
    },
    "tags": []
   },
   "outputs": [
    {
     "data": {
      "text/plain": [
       "array([1, 1, 1, ..., 1, 0, 0])"
      ]
     },
     "execution_count": 37,
     "metadata": {},
     "output_type": "execute_result"
    }
   ],
   "source": [
    "from sklearn.neighbors import KNeighborsClassifier\n",
    "KnnPred=KNeighborsClassifier()\n",
    "KnnPred.fit(X_train,Y_train)\n",
    "y_preds=KnnPred.predict(test_data)\n",
    "y_preds"
   ]
  },
  {
   "cell_type": "code",
   "execution_count": 38,
   "id": "ae10dbf5",
   "metadata": {
    "execution": {
     "iopub.execute_input": "2023-06-24T13:26:06.732413Z",
     "iopub.status.busy": "2023-06-24T13:26:06.731935Z",
     "iopub.status.idle": "2023-06-24T13:26:06.740582Z",
     "shell.execute_reply": "2023-06-24T13:26:06.739082Z"
    },
    "papermill": {
     "duration": 0.039964,
     "end_time": "2023-06-24T13:26:06.743544",
     "exception": false,
     "start_time": "2023-06-24T13:26:06.703580",
     "status": "completed"
    },
    "tags": []
   },
   "outputs": [
    {
     "data": {
      "text/plain": [
       "{'algorithm': 'auto',\n",
       " 'leaf_size': 30,\n",
       " 'metric': 'minkowski',\n",
       " 'metric_params': None,\n",
       " 'n_jobs': None,\n",
       " 'n_neighbors': 5,\n",
       " 'p': 2,\n",
       " 'weights': 'uniform'}"
      ]
     },
     "execution_count": 38,
     "metadata": {},
     "output_type": "execute_result"
    }
   ],
   "source": [
    "#Keeping the default parameters\n",
    "KnnPred.get_params()"
   ]
  },
  {
   "cell_type": "code",
   "execution_count": 39,
   "id": "b65f26b2",
   "metadata": {
    "execution": {
     "iopub.execute_input": "2023-06-24T13:26:06.799099Z",
     "iopub.status.busy": "2023-06-24T13:26:06.798684Z",
     "iopub.status.idle": "2023-06-24T13:33:06.776483Z",
     "shell.execute_reply": "2023-06-24T13:33:06.775100Z"
    },
    "papermill": {
     "duration": 420.035824,
     "end_time": "2023-06-24T13:33:06.806181",
     "exception": false,
     "start_time": "2023-06-24T13:26:06.770357",
     "status": "completed"
    },
    "tags": []
   },
   "outputs": [
    {
     "name": "stdout",
     "output_type": "stream",
     "text": [
      "0.8852445783780875\n",
      "Mean cross-validation score: 0.92\n"
     ]
    }
   ],
   "source": [
    "print(accuracy_score(y_test,y_preds))\n",
    "# Cross Val\n",
    "scores = cross_val_score(KnnPred, X_train, Y_train, cv=5)\n",
    "print(\"Mean cross-validation score: %.2f\" % scores.mean())\n"
   ]
  },
  {
   "cell_type": "markdown",
   "id": "1c3740dc",
   "metadata": {
    "papermill": {
     "duration": 0.026526,
     "end_time": "2023-06-24T13:33:06.859645",
     "exception": false,
     "start_time": "2023-06-24T13:33:06.833119",
     "status": "completed"
    },
    "tags": []
   },
   "source": [
    "**Conclusion:** The model produced satisfactory results, and the preprocessing steps implemented earlier have undoubtedly contributed to its success. I made modifications based on my understanding of the data's characteristics and requirements. However, I remain open to further suggestions or improvements for handling the data, which can be invaluable for future iterations of this notebook. If you have any additional proposals or recommendations on how to enhance the data processing and modeling pipeline, please share them in the comments, and I will give them due consideration. Continuous refinement is key to optimizing the performance of the model and achieving even better results. "
   ]
  }
 ],
 "metadata": {
  "kernelspec": {
   "display_name": "Python 3",
   "language": "python",
   "name": "python3"
  },
  "language_info": {
   "codemirror_mode": {
    "name": "ipython",
    "version": 3
   },
   "file_extension": ".py",
   "mimetype": "text/x-python",
   "name": "python",
   "nbconvert_exporter": "python",
   "pygments_lexer": "ipython3",
   "version": "3.7.12"
  },
  "papermill": {
   "default_parameters": {},
   "duration": 581.502585,
   "end_time": "2023-06-24T13:33:08.214948",
   "environment_variables": {},
   "exception": null,
   "input_path": "__notebook__.ipynb",
   "output_path": "__notebook__.ipynb",
   "parameters": {},
   "start_time": "2023-06-24T13:23:26.712363",
   "version": "2.4.0"
  }
 },
 "nbformat": 4,
 "nbformat_minor": 5
}
